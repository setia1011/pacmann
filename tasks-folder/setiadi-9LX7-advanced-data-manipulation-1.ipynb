{
 "cells": [
  {
   "cell_type": "markdown",
   "id": "6b9ed3e8",
   "metadata": {
    "id": "6b9ed3e8"
   },
   "source": [
    "# Tugas Wrangling 3\n",
    "\n",
    "* Silakan download dan kerjakan soal berikut dimanapun (laptop pribadi/google colab/etc.)\n",
    "* Setelah selesai mengerjakan, upload file ini di tempat yang telah disediakan pada platform.\n",
    "* Beri nama file seperti berikut: {username}-wrangling-3.ipynb\n",
    "* Contoh: johndoe-ab12-wrangling-3.ipynb\n",
    "* Tutorial: https://discourse.pacmann.ai/t/pengumuman-seluruh-platform-pacmann-ai/409\n",
    "* Username dapat dilihat di dalam akun anda.\n",
    "* Mohon jangan mengubah nama variabel yang telah diberikan.\n",
    "* Namun anda diperbolehkan untuk menambah variabel apapun.\n",
    "---"
   ]
  },
  {
   "cell_type": "markdown",
   "id": "dc15d250",
   "metadata": {
    "id": "dc15d250"
   },
   "source": [
    "Disclaimer : Konten dibawah dibuat untuk kebutuhan pembuatan tugas data wrangling. Tidak dapat dijadikan standar untuk pengolahan data. Karena tiap data butuh penanganan yang berbeda-beda.\n",
    "\n",
    "---"
   ]
  },
  {
   "cell_type": "code",
   "execution_count": 27,
   "id": "a4da218e",
   "metadata": {
    "id": "a4da218e"
   },
   "outputs": [],
   "source": [
    "import pandas as pd\n",
    "import numpy as np\n",
    "import matplotlib.pyplot as plt\n",
    "import seaborn as sns"
   ]
  },
  {
   "cell_type": "markdown",
   "id": "cf8abf48",
   "metadata": {
    "id": "cf8abf48"
   },
   "source": [
    "Waktu menunjukkan pukul 16:37, Seta tengah berdiri di sebuah halte bersama ratusan karyawan lainnya. Menunggu bis yang rutenya akan melewati tempat tinggal Seta.\n",
    "\n",
    "Sebuah pesan singkat baru saja masuk di hp Seta. Valian, teman kelompoknya di lembaga pelatihan data, baru saja mengirimkan sebuah link website. Dalam sekejap Seta langsung mengklik link tersebut. Selang beberapa detik sebuah halaman website tampil di layar HPnya. Mata Seta tertuju ke sebuah tulisan di landing page website \"Sayembara Analsis Data Bike Sharing\". \n",
    "\n",
    "Seta menutup halaman web tersebut, mengetahui maksud valian mengirimkan link tersebut. Ialalu mengirimkan pesan balasan ke Valian. \"Ayo kita diskusikan setelah jam makan malam\"."
   ]
  },
  {
   "cell_type": "markdown",
   "id": "f958fd98",
   "metadata": {
    "id": "f958fd98"
   },
   "source": [
    "Setelah berdiskusi panjang lebar, Seta dan Valian akhirnya memutuskan untuk membagi tugas. Seta mendapatkan tugas untuk melakukan eksplorasi dan beberapa analisis terhadap dataset yang diberikan dalam sayembara tersebut, sedangkan Valian akan mengerjakan bagian pemodelannya.\n",
    "\n",
    "\"Aku akan mulai pengerjaannya besok ya Val\" kata Seta sebelum menutup diskusi pada malam itu. \"Okee!\"  jawab Valian sambil mengacungkan jempolnya."
   ]
  },
  {
   "cell_type": "markdown",
   "id": "e04e2a4f",
   "metadata": {
    "id": "e04e2a4f"
   },
   "source": [
    "Keesokan harinya, sebelum mulai mengerjakan sayembaranya, Seta masuk ke halaman website untuk mengunduh dataset yang telah disediakan oleh pihak yang memberikan sayembara. Datanya disimpan dalam bentuk zip dan terdapat dua folder didalamnya. Folder bike_sharing berisi informasi peminjaman sepeda dan folder bike_sharing_weather berisi informasi musim dan cuaca."
   ]
  },
  {
   "cell_type": "markdown",
   "id": "ab4ccc28",
   "metadata": {
    "id": "ab4ccc28"
   },
   "source": [
    "1. Dari file data bike_sharing, gabungkan kedua data tersebut kedalam satu table. \n",
    "\n",
    "> Note: Perhatikan index data"
   ]
  },
  {
   "cell_type": "code",
   "execution_count": 32,
   "id": "b7866c24",
   "metadata": {
    "id": "b7866c24",
    "outputId": "108c3230-5910-48da-cc41-3ddc9bccef4a"
   },
   "outputs": [
    {
     "data": {
      "text/html": [
       "<div>\n",
       "<style scoped>\n",
       "    .dataframe tbody tr th:only-of-type {\n",
       "        vertical-align: middle;\n",
       "    }\n",
       "\n",
       "    .dataframe tbody tr th {\n",
       "        vertical-align: top;\n",
       "    }\n",
       "\n",
       "    .dataframe thead th {\n",
       "        text-align: right;\n",
       "    }\n",
       "</style>\n",
       "<table border=\"1\" class=\"dataframe\">\n",
       "  <thead>\n",
       "    <tr style=\"text-align: right;\">\n",
       "      <th></th>\n",
       "      <th>datetime</th>\n",
       "      <th>holiday</th>\n",
       "      <th>workingday</th>\n",
       "      <th>casual</th>\n",
       "      <th>registered</th>\n",
       "      <th>count</th>\n",
       "    </tr>\n",
       "  </thead>\n",
       "  <tbody>\n",
       "    <tr>\n",
       "      <th>0</th>\n",
       "      <td>2011-01-01 00:00:00</td>\n",
       "      <td>0</td>\n",
       "      <td>0</td>\n",
       "      <td>3</td>\n",
       "      <td>13</td>\n",
       "      <td>16</td>\n",
       "    </tr>\n",
       "    <tr>\n",
       "      <th>1</th>\n",
       "      <td>2011-01-01 01:00:00</td>\n",
       "      <td>0</td>\n",
       "      <td>0</td>\n",
       "      <td>8</td>\n",
       "      <td>32</td>\n",
       "      <td>40</td>\n",
       "    </tr>\n",
       "    <tr>\n",
       "      <th>2</th>\n",
       "      <td>2011-01-01 02:00:00</td>\n",
       "      <td>0</td>\n",
       "      <td>0</td>\n",
       "      <td>5</td>\n",
       "      <td>27</td>\n",
       "      <td>32</td>\n",
       "    </tr>\n",
       "    <tr>\n",
       "      <th>3</th>\n",
       "      <td>2011-01-01 03:00:00</td>\n",
       "      <td>0</td>\n",
       "      <td>0</td>\n",
       "      <td>3</td>\n",
       "      <td>10</td>\n",
       "      <td>13</td>\n",
       "    </tr>\n",
       "    <tr>\n",
       "      <th>4</th>\n",
       "      <td>2011-01-01 04:00:00</td>\n",
       "      <td>0</td>\n",
       "      <td>0</td>\n",
       "      <td>0</td>\n",
       "      <td>1</td>\n",
       "      <td>1</td>\n",
       "    </tr>\n",
       "    <tr>\n",
       "      <th>...</th>\n",
       "      <td>...</td>\n",
       "      <td>...</td>\n",
       "      <td>...</td>\n",
       "      <td>...</td>\n",
       "      <td>...</td>\n",
       "      <td>...</td>\n",
       "    </tr>\n",
       "    <tr>\n",
       "      <th>5459</th>\n",
       "      <td>2012-12-19 19:00:00</td>\n",
       "      <td>0</td>\n",
       "      <td>1</td>\n",
       "      <td>7</td>\n",
       "      <td>329</td>\n",
       "      <td>336</td>\n",
       "    </tr>\n",
       "    <tr>\n",
       "      <th>5460</th>\n",
       "      <td>2012-12-19 20:00:00</td>\n",
       "      <td>0</td>\n",
       "      <td>1</td>\n",
       "      <td>10</td>\n",
       "      <td>231</td>\n",
       "      <td>241</td>\n",
       "    </tr>\n",
       "    <tr>\n",
       "      <th>5461</th>\n",
       "      <td>2012-12-19 21:00:00</td>\n",
       "      <td>0</td>\n",
       "      <td>1</td>\n",
       "      <td>4</td>\n",
       "      <td>164</td>\n",
       "      <td>168</td>\n",
       "    </tr>\n",
       "    <tr>\n",
       "      <th>5462</th>\n",
       "      <td>2012-12-19 22:00:00</td>\n",
       "      <td>0</td>\n",
       "      <td>1</td>\n",
       "      <td>12</td>\n",
       "      <td>117</td>\n",
       "      <td>129</td>\n",
       "    </tr>\n",
       "    <tr>\n",
       "      <th>5463</th>\n",
       "      <td>2012-12-19 23:00:00</td>\n",
       "      <td>0</td>\n",
       "      <td>1</td>\n",
       "      <td>4</td>\n",
       "      <td>84</td>\n",
       "      <td>88</td>\n",
       "    </tr>\n",
       "  </tbody>\n",
       "</table>\n",
       "<p>10886 rows × 6 columns</p>\n",
       "</div>"
      ],
      "text/plain": [
       "                 datetime  holiday  workingday  casual  registered  count\n",
       "0     2011-01-01 00:00:00        0           0       3          13     16\n",
       "1     2011-01-01 01:00:00        0           0       8          32     40\n",
       "2     2011-01-01 02:00:00        0           0       5          27     32\n",
       "3     2011-01-01 03:00:00        0           0       3          10     13\n",
       "4     2011-01-01 04:00:00        0           0       0           1      1\n",
       "...                   ...      ...         ...     ...         ...    ...\n",
       "5459  2012-12-19 19:00:00        0           1       7         329    336\n",
       "5460  2012-12-19 20:00:00        0           1      10         231    241\n",
       "5461  2012-12-19 21:00:00        0           1       4         164    168\n",
       "5462  2012-12-19 22:00:00        0           1      12         117    129\n",
       "5463  2012-12-19 23:00:00        0           1       4          84     88\n",
       "\n",
       "[10886 rows x 6 columns]"
      ]
     },
     "execution_count": 32,
     "metadata": {},
     "output_type": "execute_result"
    }
   ],
   "source": [
    "bike_2011 = pd.read_csv('../data/bike_sharing/bike_2011.csv') # Inputkan Kode Disini\n",
    "bike_2012 = pd.read_csv('../data/bike_sharing/bike_2012.csv') # Inputkan Kode Disini\n",
    "bike_data = pd.concat([bike_2011, bike_2012]) # Inputkan Kode Disini\n",
    "bike_data"
   ]
  },
  {
   "cell_type": "markdown",
   "id": "c3b65c24",
   "metadata": {
    "id": "c3b65c24"
   },
   "source": [
    "Mengawali eksplorasi ini, Seta ingin melihat apakah terdapat peningkatan/penurunan jumlah peminjaman sepeda dari tahun 2011 ke 2012"
   ]
  },
  {
   "cell_type": "markdown",
   "id": "c634ce2f",
   "metadata": {
    "id": "c634ce2f"
   },
   "source": [
    "2. Berapa persen peningkatan jumlah peminjaman sepeda dari tahun 2011 ke tahun 2012"
   ]
  },
  {
   "cell_type": "code",
   "execution_count": 38,
   "id": "b8ec1c4b-8f1f-47ec-98b7-beb0c4b0da32",
   "metadata": {},
   "outputs": [
    {
     "data": {
      "text/plain": [
       "0.0076866764275256225"
      ]
     },
     "execution_count": 38,
     "metadata": {},
     "output_type": "execute_result"
    }
   ],
   "source": [
    "# bike_data['datetime'] = bike_data['datetime'].str[:4]\n",
    "(bike_data[bike_data['datetime'].str[:4] == '2012']['registered'].count() -\\\n",
    "bike_data[bike_data['datetime'].str[:4] == '2011']['registered'].count()) / bike_data[bike_data['datetime'].str[:4] == '2012']['registered'].count()"
   ]
  },
  {
   "cell_type": "code",
   "execution_count": null,
   "id": "ced98289",
   "metadata": {
    "id": "ced98289",
    "outputId": "76d329ff-a258-46a2-ca56-a56f86f837b1"
   },
   "outputs": [
    {
     "name": "stdout",
     "output_type": "stream",
     "text": [
      "Dari 2011 ke 2012 terjadi peningkatan peminjaman sepeda sebanyak 66.69%\n"
     ]
    }
   ],
   "source": [
    "persen_2011_2012 = # Inputkan Kode Disini\n",
    "print(f\"Dari 2011 ke 2012 terjadi peningkatan peminjaman sepeda sebanyak {persen_2011_2012:.2f}%\")"
   ]
  },
  {
   "cell_type": "markdown",
   "id": "592cdd6d",
   "metadata": {
    "id": "592cdd6d"
   },
   "source": [
    "Menarik!, dari hasil diatas terlihat terjadi peningkatan jumlah peminjaman sepeda sebanyak 66% dari tahun 2011 ke 2012. Seta kemudian mengetik beberapa baris kode lagi untuk melihat trend bulanan  peminjaman sepeda.\n",
    "\n",
    "3. tampilkan trend bulanan data peminjaman sepeda tahun 2011 dan 2012\n",
    "\n",
    "> Note: \n",
    "> - Gunakan kolom **count**\n",
    "> - Buat agar data pada kolom datetime bertipe datetime"
   ]
  },
  {
   "cell_type": "code",
   "execution_count": 44,
   "id": "598c8742-24d4-47c2-9958-37c8c5f9b8a4",
   "metadata": {},
   "outputs": [
    {
     "data": {
      "text/html": [
       "<div>\n",
       "<style scoped>\n",
       "    .dataframe tbody tr th:only-of-type {\n",
       "        vertical-align: middle;\n",
       "    }\n",
       "\n",
       "    .dataframe tbody tr th {\n",
       "        vertical-align: top;\n",
       "    }\n",
       "\n",
       "    .dataframe thead th {\n",
       "        text-align: right;\n",
       "    }\n",
       "</style>\n",
       "<table border=\"1\" class=\"dataframe\">\n",
       "  <thead>\n",
       "    <tr style=\"text-align: right;\">\n",
       "      <th></th>\n",
       "      <th>datetime</th>\n",
       "      <th>holiday</th>\n",
       "      <th>workingday</th>\n",
       "      <th>casual</th>\n",
       "      <th>registered</th>\n",
       "      <th>count</th>\n",
       "    </tr>\n",
       "  </thead>\n",
       "  <tbody>\n",
       "    <tr>\n",
       "      <th>0</th>\n",
       "      <td>2011-01-01 00:00:00</td>\n",
       "      <td>0</td>\n",
       "      <td>0</td>\n",
       "      <td>3</td>\n",
       "      <td>13</td>\n",
       "      <td>16</td>\n",
       "    </tr>\n",
       "    <tr>\n",
       "      <th>1</th>\n",
       "      <td>2011-01-01 01:00:00</td>\n",
       "      <td>0</td>\n",
       "      <td>0</td>\n",
       "      <td>8</td>\n",
       "      <td>32</td>\n",
       "      <td>40</td>\n",
       "    </tr>\n",
       "    <tr>\n",
       "      <th>2</th>\n",
       "      <td>2011-01-01 02:00:00</td>\n",
       "      <td>0</td>\n",
       "      <td>0</td>\n",
       "      <td>5</td>\n",
       "      <td>27</td>\n",
       "      <td>32</td>\n",
       "    </tr>\n",
       "    <tr>\n",
       "      <th>3</th>\n",
       "      <td>2011-01-01 03:00:00</td>\n",
       "      <td>0</td>\n",
       "      <td>0</td>\n",
       "      <td>3</td>\n",
       "      <td>10</td>\n",
       "      <td>13</td>\n",
       "    </tr>\n",
       "    <tr>\n",
       "      <th>4</th>\n",
       "      <td>2011-01-01 04:00:00</td>\n",
       "      <td>0</td>\n",
       "      <td>0</td>\n",
       "      <td>0</td>\n",
       "      <td>1</td>\n",
       "      <td>1</td>\n",
       "    </tr>\n",
       "    <tr>\n",
       "      <th>...</th>\n",
       "      <td>...</td>\n",
       "      <td>...</td>\n",
       "      <td>...</td>\n",
       "      <td>...</td>\n",
       "      <td>...</td>\n",
       "      <td>...</td>\n",
       "    </tr>\n",
       "    <tr>\n",
       "      <th>5459</th>\n",
       "      <td>2012-12-19 19:00:00</td>\n",
       "      <td>0</td>\n",
       "      <td>1</td>\n",
       "      <td>7</td>\n",
       "      <td>329</td>\n",
       "      <td>336</td>\n",
       "    </tr>\n",
       "    <tr>\n",
       "      <th>5460</th>\n",
       "      <td>2012-12-19 20:00:00</td>\n",
       "      <td>0</td>\n",
       "      <td>1</td>\n",
       "      <td>10</td>\n",
       "      <td>231</td>\n",
       "      <td>241</td>\n",
       "    </tr>\n",
       "    <tr>\n",
       "      <th>5461</th>\n",
       "      <td>2012-12-19 21:00:00</td>\n",
       "      <td>0</td>\n",
       "      <td>1</td>\n",
       "      <td>4</td>\n",
       "      <td>164</td>\n",
       "      <td>168</td>\n",
       "    </tr>\n",
       "    <tr>\n",
       "      <th>5462</th>\n",
       "      <td>2012-12-19 22:00:00</td>\n",
       "      <td>0</td>\n",
       "      <td>1</td>\n",
       "      <td>12</td>\n",
       "      <td>117</td>\n",
       "      <td>129</td>\n",
       "    </tr>\n",
       "    <tr>\n",
       "      <th>5463</th>\n",
       "      <td>2012-12-19 23:00:00</td>\n",
       "      <td>0</td>\n",
       "      <td>1</td>\n",
       "      <td>4</td>\n",
       "      <td>84</td>\n",
       "      <td>88</td>\n",
       "    </tr>\n",
       "  </tbody>\n",
       "</table>\n",
       "<p>10886 rows × 6 columns</p>\n",
       "</div>"
      ],
      "text/plain": [
       "                datetime  holiday  workingday  casual  registered  count\n",
       "0    2011-01-01 00:00:00        0           0       3          13     16\n",
       "1    2011-01-01 01:00:00        0           0       8          32     40\n",
       "2    2011-01-01 02:00:00        0           0       5          27     32\n",
       "3    2011-01-01 03:00:00        0           0       3          10     13\n",
       "4    2011-01-01 04:00:00        0           0       0           1      1\n",
       "...                  ...      ...         ...     ...         ...    ...\n",
       "5459 2012-12-19 19:00:00        0           1       7         329    336\n",
       "5460 2012-12-19 20:00:00        0           1      10         231    241\n",
       "5461 2012-12-19 21:00:00        0           1       4         164    168\n",
       "5462 2012-12-19 22:00:00        0           1      12         117    129\n",
       "5463 2012-12-19 23:00:00        0           1       4          84     88\n",
       "\n",
       "[10886 rows x 6 columns]"
      ]
     },
     "execution_count": 44,
     "metadata": {},
     "output_type": "execute_result"
    }
   ],
   "source": [
    "dx = bike_data\n",
    "dx['datetime'] = pd.to_datetime(dx['datetime'])\n",
    "dx['datetime'].groupby([dx.datetime.dt.year])\n",
    "dx\n",
    "\n",
    "# dxx.plot(kind='line', figsize=(12, 5))"
   ]
  },
  {
   "cell_type": "code",
   "execution_count": null,
   "id": "18c287d5",
   "metadata": {
    "id": "18c287d5",
    "outputId": "8d172752-897e-4751-c580-aa86ce72a5db"
   },
   "outputs": [
    {
     "data": {
      "text/plain": [
       "month\n",
       "2011-01     23552\n",
       "2011-02     32844\n",
       "2011-03     38735\n",
       "2011-04     50517\n",
       "2011-05     79713\n",
       "2011-06     89776\n",
       "2011-07     92848\n",
       "2011-08     83296\n",
       "2011-09     79104\n",
       "2011-10     79522\n",
       "2011-11     70889\n",
       "2011-12     61183\n",
       "2012-01     56332\n",
       "2012-02     66269\n",
       "2012-03     94766\n",
       "2012-04    116885\n",
       "2012-05    120434\n",
       "2012-06    130957\n",
       "2012-07    121769\n",
       "2012-08    130220\n",
       "2012-09    133425\n",
       "2012-10    127912\n",
       "2012-11    105551\n",
       "2012-12     98977\n",
       "Freq: M, Name: count, dtype: int64"
      ]
     },
     "execution_count": 142,
     "metadata": {},
     "output_type": "execute_result"
    },
    {
     "data": {
      "image/png": "[encoded data removed]",
      "text/plain": [
       "<Figure size 864x288 with 1 Axes>"
      ]
     },
     "metadata": {
      "needs_background": "light"
     },
     "output_type": "display_data"
    }
   ],
   "source": [
    "monthly_bike_sharing = # Inputkan kode disini\n",
    "monthly_bike_sharing.plot(figsize=(12, 4))\n",
    "monthly_bike_sharing"
   ]
  },
  {
   "cell_type": "markdown",
   "id": "b0e68b02",
   "metadata": {
    "id": "b0e68b02"
   },
   "source": [
    "Trend diatas cukup menarik, terlihat peningkatan jumlah peminjaman sepeda terjadi di Kuartal 2 sampai akhir Kuartal 3 tiap tahunnya. Namun diawal Kuartal 4 mulai terjadi penurunan hingga mencapai titik terendah di bulan Januari.\n",
    "\n",
    "\"Kita perlu mengetahui penyebab trend ini\" kata Valian, \"namun data yang dimiliki sekarang tidak cukup untuk bisa mengetahui hal tersebut\" Balas Seta. \"Bagaimana dengan data di folder bike_sharing_weather?\". Seta kemudian membuka kembali folder data menuju ke folder bike_sharing_weather. Seta membuka data tersebut, \"Datanya memiliki record yang sama pada kolom datetime\" kata Seta ke Valian sambil menunjuk kolom datetime dari kedua data. \"Bagus berarti kita bisa menggabungkan datanya\" Valian menepuk pundak Seta."
   ]
  },
  {
   "cell_type": "markdown",
   "id": "e25053aa",
   "metadata": {
    "id": "e25053aa"
   },
   "source": [
    "5. Gabungkan data weather tahun 2011 dan 2012 dengan bike_data menjadi satu tabel.\n",
    "\n",
    "> Note: Pastikan kolom datetime bertipe datetime"
   ]
  },
  {
   "cell_type": "code",
   "execution_count": null,
   "id": "b2861bfe",
   "metadata": {
    "id": "b2861bfe",
    "outputId": "0ba4a824-c53c-457c-91cd-094985854ab0"
   },
   "outputs": [
    {
     "data": {
      "text/html": [
       "<div>\n",
       "<style scoped>\n",
       "    .dataframe tbody tr th:only-of-type {\n",
       "        vertical-align: middle;\n",
       "    }\n",
       "\n",
       "    .dataframe tbody tr th {\n",
       "        vertical-align: top;\n",
       "    }\n",
       "\n",
       "    .dataframe thead th {\n",
       "        text-align: right;\n",
       "    }\n",
       "</style>\n",
       "<table border=\"1\" class=\"dataframe\">\n",
       "  <thead>\n",
       "    <tr style=\"text-align: right;\">\n",
       "      <th></th>\n",
       "      <th>datetime</th>\n",
       "      <th>holiday</th>\n",
       "      <th>workingday</th>\n",
       "      <th>casual</th>\n",
       "      <th>registered</th>\n",
       "      <th>count</th>\n",
       "      <th>month</th>\n",
       "      <th>season</th>\n",
       "      <th>weather</th>\n",
       "      <th>temp</th>\n",
       "      <th>atemp</th>\n",
       "      <th>humidity</th>\n",
       "      <th>windspeed</th>\n",
       "    </tr>\n",
       "  </thead>\n",
       "  <tbody>\n",
       "    <tr>\n",
       "      <th>0</th>\n",
       "      <td>2011-01-01 00:00:00</td>\n",
       "      <td>non-holiday</td>\n",
       "      <td>breakday</td>\n",
       "      <td>3</td>\n",
       "      <td>13</td>\n",
       "      <td>16</td>\n",
       "      <td>2011-01</td>\n",
       "      <td>1</td>\n",
       "      <td>1</td>\n",
       "      <td>9.84</td>\n",
       "      <td>14.395</td>\n",
       "      <td>81</td>\n",
       "      <td>0.0000</td>\n",
       "    </tr>\n",
       "    <tr>\n",
       "      <th>1</th>\n",
       "      <td>2011-01-01 01:00:00</td>\n",
       "      <td>non-holiday</td>\n",
       "      <td>breakday</td>\n",
       "      <td>8</td>\n",
       "      <td>32</td>\n",
       "      <td>40</td>\n",
       "      <td>2011-01</td>\n",
       "      <td>1</td>\n",
       "      <td>1</td>\n",
       "      <td>9.02</td>\n",
       "      <td>13.635</td>\n",
       "      <td>80</td>\n",
       "      <td>0.0000</td>\n",
       "    </tr>\n",
       "    <tr>\n",
       "      <th>2</th>\n",
       "      <td>2011-01-01 02:00:00</td>\n",
       "      <td>non-holiday</td>\n",
       "      <td>breakday</td>\n",
       "      <td>5</td>\n",
       "      <td>27</td>\n",
       "      <td>32</td>\n",
       "      <td>2011-01</td>\n",
       "      <td>1</td>\n",
       "      <td>1</td>\n",
       "      <td>9.02</td>\n",
       "      <td>13.635</td>\n",
       "      <td>80</td>\n",
       "      <td>0.0000</td>\n",
       "    </tr>\n",
       "    <tr>\n",
       "      <th>3</th>\n",
       "      <td>2011-01-01 03:00:00</td>\n",
       "      <td>non-holiday</td>\n",
       "      <td>breakday</td>\n",
       "      <td>3</td>\n",
       "      <td>10</td>\n",
       "      <td>13</td>\n",
       "      <td>2011-01</td>\n",
       "      <td>1</td>\n",
       "      <td>1</td>\n",
       "      <td>9.84</td>\n",
       "      <td>14.395</td>\n",
       "      <td>75</td>\n",
       "      <td>0.0000</td>\n",
       "    </tr>\n",
       "    <tr>\n",
       "      <th>4</th>\n",
       "      <td>2011-01-01 04:00:00</td>\n",
       "      <td>non-holiday</td>\n",
       "      <td>breakday</td>\n",
       "      <td>0</td>\n",
       "      <td>1</td>\n",
       "      <td>1</td>\n",
       "      <td>2011-01</td>\n",
       "      <td>1</td>\n",
       "      <td>1</td>\n",
       "      <td>9.84</td>\n",
       "      <td>14.395</td>\n",
       "      <td>75</td>\n",
       "      <td>0.0000</td>\n",
       "    </tr>\n",
       "    <tr>\n",
       "      <th>...</th>\n",
       "      <td>...</td>\n",
       "      <td>...</td>\n",
       "      <td>...</td>\n",
       "      <td>...</td>\n",
       "      <td>...</td>\n",
       "      <td>...</td>\n",
       "      <td>...</td>\n",
       "      <td>...</td>\n",
       "      <td>...</td>\n",
       "      <td>...</td>\n",
       "      <td>...</td>\n",
       "      <td>...</td>\n",
       "      <td>...</td>\n",
       "    </tr>\n",
       "    <tr>\n",
       "      <th>10881</th>\n",
       "      <td>2012-12-19 19:00:00</td>\n",
       "      <td>non-holiday</td>\n",
       "      <td>workingday</td>\n",
       "      <td>7</td>\n",
       "      <td>329</td>\n",
       "      <td>336</td>\n",
       "      <td>2012-12</td>\n",
       "      <td>4</td>\n",
       "      <td>1</td>\n",
       "      <td>15.58</td>\n",
       "      <td>19.695</td>\n",
       "      <td>50</td>\n",
       "      <td>26.0027</td>\n",
       "    </tr>\n",
       "    <tr>\n",
       "      <th>10882</th>\n",
       "      <td>2012-12-19 20:00:00</td>\n",
       "      <td>non-holiday</td>\n",
       "      <td>workingday</td>\n",
       "      <td>10</td>\n",
       "      <td>231</td>\n",
       "      <td>241</td>\n",
       "      <td>2012-12</td>\n",
       "      <td>4</td>\n",
       "      <td>1</td>\n",
       "      <td>14.76</td>\n",
       "      <td>17.425</td>\n",
       "      <td>57</td>\n",
       "      <td>15.0013</td>\n",
       "    </tr>\n",
       "    <tr>\n",
       "      <th>10883</th>\n",
       "      <td>2012-12-19 21:00:00</td>\n",
       "      <td>non-holiday</td>\n",
       "      <td>workingday</td>\n",
       "      <td>4</td>\n",
       "      <td>164</td>\n",
       "      <td>168</td>\n",
       "      <td>2012-12</td>\n",
       "      <td>4</td>\n",
       "      <td>1</td>\n",
       "      <td>13.94</td>\n",
       "      <td>15.910</td>\n",
       "      <td>61</td>\n",
       "      <td>15.0013</td>\n",
       "    </tr>\n",
       "    <tr>\n",
       "      <th>10884</th>\n",
       "      <td>2012-12-19 22:00:00</td>\n",
       "      <td>non-holiday</td>\n",
       "      <td>workingday</td>\n",
       "      <td>12</td>\n",
       "      <td>117</td>\n",
       "      <td>129</td>\n",
       "      <td>2012-12</td>\n",
       "      <td>4</td>\n",
       "      <td>1</td>\n",
       "      <td>13.94</td>\n",
       "      <td>17.425</td>\n",
       "      <td>61</td>\n",
       "      <td>6.0032</td>\n",
       "    </tr>\n",
       "    <tr>\n",
       "      <th>10885</th>\n",
       "      <td>2012-12-19 23:00:00</td>\n",
       "      <td>non-holiday</td>\n",
       "      <td>workingday</td>\n",
       "      <td>4</td>\n",
       "      <td>84</td>\n",
       "      <td>88</td>\n",
       "      <td>2012-12</td>\n",
       "      <td>4</td>\n",
       "      <td>1</td>\n",
       "      <td>13.12</td>\n",
       "      <td>16.665</td>\n",
       "      <td>66</td>\n",
       "      <td>8.9981</td>\n",
       "    </tr>\n",
       "  </tbody>\n",
       "</table>\n",
       "<p>10886 rows × 13 columns</p>\n",
       "</div>"
      ],
      "text/plain": [
       "                 datetime      holiday  workingday  casual  registered  count  \\\n",
       "0     2011-01-01 00:00:00  non-holiday    breakday       3          13     16   \n",
       "1     2011-01-01 01:00:00  non-holiday    breakday       8          32     40   \n",
       "2     2011-01-01 02:00:00  non-holiday    breakday       5          27     32   \n",
       "3     2011-01-01 03:00:00  non-holiday    breakday       3          10     13   \n",
       "4     2011-01-01 04:00:00  non-holiday    breakday       0           1      1   \n",
       "...                   ...          ...         ...     ...         ...    ...   \n",
       "10881 2012-12-19 19:00:00  non-holiday  workingday       7         329    336   \n",
       "10882 2012-12-19 20:00:00  non-holiday  workingday      10         231    241   \n",
       "10883 2012-12-19 21:00:00  non-holiday  workingday       4         164    168   \n",
       "10884 2012-12-19 22:00:00  non-holiday  workingday      12         117    129   \n",
       "10885 2012-12-19 23:00:00  non-holiday  workingday       4          84     88   \n",
       "\n",
       "         month  season  weather   temp   atemp  humidity  windspeed  \n",
       "0      2011-01       1        1   9.84  14.395        81     0.0000  \n",
       "1      2011-01       1        1   9.02  13.635        80     0.0000  \n",
       "2      2011-01       1        1   9.02  13.635        80     0.0000  \n",
       "3      2011-01       1        1   9.84  14.395        75     0.0000  \n",
       "4      2011-01       1        1   9.84  14.395        75     0.0000  \n",
       "...        ...     ...      ...    ...     ...       ...        ...  \n",
       "10881  2012-12       4        1  15.58  19.695        50    26.0027  \n",
       "10882  2012-12       4        1  14.76  17.425        57    15.0013  \n",
       "10883  2012-12       4        1  13.94  15.910        61    15.0013  \n",
       "10884  2012-12       4        1  13.94  17.425        61     6.0032  \n",
       "10885  2012-12       4        1  13.12  16.665        66     8.9981  \n",
       "\n",
       "[10886 rows x 13 columns]"
      ]
     },
     "execution_count": 76,
     "metadata": {},
     "output_type": "execute_result"
    }
   ],
   "source": [
    "bike_sharing_data = # Inputkan kode disini\n",
    "bike_sharing_data"
   ]
  },
  {
   "cell_type": "markdown",
   "id": "2f91d469",
   "metadata": {
    "id": "2f91d469"
   },
   "source": [
    "Dari data yang telah di-read terlihat di beberapa kolom informasinya tidak deskriptif sehingga akan membingungkan Seta. Ia kemudian membuka halaman website tersebut untuk mendapatkan deskripsi dari datanya. http://archive.ics.uci.edu/ml/datasets/Bike+Sharing+Dataset. \n",
    "\n",
    "\"Sepertinya aku perlu merubah nilai beberapa kolom\" Gumam Seta dalam hati.\n",
    "\n",
    "6. Bedasarkan deskripsi data pada website ubahlah kolom `season` dan `weather` menggunakan fungsi map:\n",
    " * `season`: 1 menjadi \"winter\", 2 menjadi \"spring\", 3 menjadi \"summer\", 4 menjadi \"fall\"\n",
    " * `weather`: 1 menjadi \"_clear_\", 2 menjadi \"_cloudy_\", 3 menjadi \"_light snow/rain_\", 4 menjadi \"_heavy snow/rain_\""
   ]
  },
  {
   "cell_type": "code",
   "execution_count": null,
   "id": "67ea3baa",
   "metadata": {
    "id": "67ea3baa",
    "outputId": "82a2a0e0-6829-4f0d-98a6-80e0b293c4de"
   },
   "outputs": [
    {
     "data": {
      "text/html": [
       "<div>\n",
       "<style scoped>\n",
       "    .dataframe tbody tr th:only-of-type {\n",
       "        vertical-align: middle;\n",
       "    }\n",
       "\n",
       "    .dataframe tbody tr th {\n",
       "        vertical-align: top;\n",
       "    }\n",
       "\n",
       "    .dataframe thead th {\n",
       "        text-align: right;\n",
       "    }\n",
       "</style>\n",
       "<table border=\"1\" class=\"dataframe\">\n",
       "  <thead>\n",
       "    <tr style=\"text-align: right;\">\n",
       "      <th></th>\n",
       "      <th>datetime</th>\n",
       "      <th>holiday</th>\n",
       "      <th>workingday</th>\n",
       "      <th>casual</th>\n",
       "      <th>registered</th>\n",
       "      <th>count</th>\n",
       "      <th>month</th>\n",
       "      <th>season</th>\n",
       "      <th>weather</th>\n",
       "      <th>temp</th>\n",
       "      <th>atemp</th>\n",
       "      <th>humidity</th>\n",
       "      <th>windspeed</th>\n",
       "    </tr>\n",
       "  </thead>\n",
       "  <tbody>\n",
       "    <tr>\n",
       "      <th>0</th>\n",
       "      <td>2011-01-01 00:00:00</td>\n",
       "      <td>non-holiday</td>\n",
       "      <td>breakday</td>\n",
       "      <td>3</td>\n",
       "      <td>13</td>\n",
       "      <td>16</td>\n",
       "      <td>2011-01</td>\n",
       "      <td>winter</td>\n",
       "      <td>clear</td>\n",
       "      <td>9.84</td>\n",
       "      <td>14.395</td>\n",
       "      <td>81</td>\n",
       "      <td>0.0000</td>\n",
       "    </tr>\n",
       "    <tr>\n",
       "      <th>1</th>\n",
       "      <td>2011-01-01 01:00:00</td>\n",
       "      <td>non-holiday</td>\n",
       "      <td>breakday</td>\n",
       "      <td>8</td>\n",
       "      <td>32</td>\n",
       "      <td>40</td>\n",
       "      <td>2011-01</td>\n",
       "      <td>winter</td>\n",
       "      <td>clear</td>\n",
       "      <td>9.02</td>\n",
       "      <td>13.635</td>\n",
       "      <td>80</td>\n",
       "      <td>0.0000</td>\n",
       "    </tr>\n",
       "    <tr>\n",
       "      <th>2</th>\n",
       "      <td>2011-01-01 02:00:00</td>\n",
       "      <td>non-holiday</td>\n",
       "      <td>breakday</td>\n",
       "      <td>5</td>\n",
       "      <td>27</td>\n",
       "      <td>32</td>\n",
       "      <td>2011-01</td>\n",
       "      <td>winter</td>\n",
       "      <td>clear</td>\n",
       "      <td>9.02</td>\n",
       "      <td>13.635</td>\n",
       "      <td>80</td>\n",
       "      <td>0.0000</td>\n",
       "    </tr>\n",
       "    <tr>\n",
       "      <th>3</th>\n",
       "      <td>2011-01-01 03:00:00</td>\n",
       "      <td>non-holiday</td>\n",
       "      <td>breakday</td>\n",
       "      <td>3</td>\n",
       "      <td>10</td>\n",
       "      <td>13</td>\n",
       "      <td>2011-01</td>\n",
       "      <td>winter</td>\n",
       "      <td>clear</td>\n",
       "      <td>9.84</td>\n",
       "      <td>14.395</td>\n",
       "      <td>75</td>\n",
       "      <td>0.0000</td>\n",
       "    </tr>\n",
       "    <tr>\n",
       "      <th>4</th>\n",
       "      <td>2011-01-01 04:00:00</td>\n",
       "      <td>non-holiday</td>\n",
       "      <td>breakday</td>\n",
       "      <td>0</td>\n",
       "      <td>1</td>\n",
       "      <td>1</td>\n",
       "      <td>2011-01</td>\n",
       "      <td>winter</td>\n",
       "      <td>clear</td>\n",
       "      <td>9.84</td>\n",
       "      <td>14.395</td>\n",
       "      <td>75</td>\n",
       "      <td>0.0000</td>\n",
       "    </tr>\n",
       "    <tr>\n",
       "      <th>...</th>\n",
       "      <td>...</td>\n",
       "      <td>...</td>\n",
       "      <td>...</td>\n",
       "      <td>...</td>\n",
       "      <td>...</td>\n",
       "      <td>...</td>\n",
       "      <td>...</td>\n",
       "      <td>...</td>\n",
       "      <td>...</td>\n",
       "      <td>...</td>\n",
       "      <td>...</td>\n",
       "      <td>...</td>\n",
       "      <td>...</td>\n",
       "    </tr>\n",
       "    <tr>\n",
       "      <th>10881</th>\n",
       "      <td>2012-12-19 19:00:00</td>\n",
       "      <td>non-holiday</td>\n",
       "      <td>workingday</td>\n",
       "      <td>7</td>\n",
       "      <td>329</td>\n",
       "      <td>336</td>\n",
       "      <td>2012-12</td>\n",
       "      <td>fall</td>\n",
       "      <td>clear</td>\n",
       "      <td>15.58</td>\n",
       "      <td>19.695</td>\n",
       "      <td>50</td>\n",
       "      <td>26.0027</td>\n",
       "    </tr>\n",
       "    <tr>\n",
       "      <th>10882</th>\n",
       "      <td>2012-12-19 20:00:00</td>\n",
       "      <td>non-holiday</td>\n",
       "      <td>workingday</td>\n",
       "      <td>10</td>\n",
       "      <td>231</td>\n",
       "      <td>241</td>\n",
       "      <td>2012-12</td>\n",
       "      <td>fall</td>\n",
       "      <td>clear</td>\n",
       "      <td>14.76</td>\n",
       "      <td>17.425</td>\n",
       "      <td>57</td>\n",
       "      <td>15.0013</td>\n",
       "    </tr>\n",
       "    <tr>\n",
       "      <th>10883</th>\n",
       "      <td>2012-12-19 21:00:00</td>\n",
       "      <td>non-holiday</td>\n",
       "      <td>workingday</td>\n",
       "      <td>4</td>\n",
       "      <td>164</td>\n",
       "      <td>168</td>\n",
       "      <td>2012-12</td>\n",
       "      <td>fall</td>\n",
       "      <td>clear</td>\n",
       "      <td>13.94</td>\n",
       "      <td>15.910</td>\n",
       "      <td>61</td>\n",
       "      <td>15.0013</td>\n",
       "    </tr>\n",
       "    <tr>\n",
       "      <th>10884</th>\n",
       "      <td>2012-12-19 22:00:00</td>\n",
       "      <td>non-holiday</td>\n",
       "      <td>workingday</td>\n",
       "      <td>12</td>\n",
       "      <td>117</td>\n",
       "      <td>129</td>\n",
       "      <td>2012-12</td>\n",
       "      <td>fall</td>\n",
       "      <td>clear</td>\n",
       "      <td>13.94</td>\n",
       "      <td>17.425</td>\n",
       "      <td>61</td>\n",
       "      <td>6.0032</td>\n",
       "    </tr>\n",
       "    <tr>\n",
       "      <th>10885</th>\n",
       "      <td>2012-12-19 23:00:00</td>\n",
       "      <td>non-holiday</td>\n",
       "      <td>workingday</td>\n",
       "      <td>4</td>\n",
       "      <td>84</td>\n",
       "      <td>88</td>\n",
       "      <td>2012-12</td>\n",
       "      <td>fall</td>\n",
       "      <td>clear</td>\n",
       "      <td>13.12</td>\n",
       "      <td>16.665</td>\n",
       "      <td>66</td>\n",
       "      <td>8.9981</td>\n",
       "    </tr>\n",
       "  </tbody>\n",
       "</table>\n",
       "<p>10886 rows × 13 columns</p>\n",
       "</div>"
      ],
      "text/plain": [
       "                 datetime      holiday  workingday  casual  registered  count  \\\n",
       "0     2011-01-01 00:00:00  non-holiday    breakday       3          13     16   \n",
       "1     2011-01-01 01:00:00  non-holiday    breakday       8          32     40   \n",
       "2     2011-01-01 02:00:00  non-holiday    breakday       5          27     32   \n",
       "3     2011-01-01 03:00:00  non-holiday    breakday       3          10     13   \n",
       "4     2011-01-01 04:00:00  non-holiday    breakday       0           1      1   \n",
       "...                   ...          ...         ...     ...         ...    ...   \n",
       "10881 2012-12-19 19:00:00  non-holiday  workingday       7         329    336   \n",
       "10882 2012-12-19 20:00:00  non-holiday  workingday      10         231    241   \n",
       "10883 2012-12-19 21:00:00  non-holiday  workingday       4         164    168   \n",
       "10884 2012-12-19 22:00:00  non-holiday  workingday      12         117    129   \n",
       "10885 2012-12-19 23:00:00  non-holiday  workingday       4          84     88   \n",
       "\n",
       "         month  season weather   temp   atemp  humidity  windspeed  \n",
       "0      2011-01  winter   clear   9.84  14.395        81     0.0000  \n",
       "1      2011-01  winter   clear   9.02  13.635        80     0.0000  \n",
       "2      2011-01  winter   clear   9.02  13.635        80     0.0000  \n",
       "3      2011-01  winter   clear   9.84  14.395        75     0.0000  \n",
       "4      2011-01  winter   clear   9.84  14.395        75     0.0000  \n",
       "...        ...     ...     ...    ...     ...       ...        ...  \n",
       "10881  2012-12    fall   clear  15.58  19.695        50    26.0027  \n",
       "10882  2012-12    fall   clear  14.76  17.425        57    15.0013  \n",
       "10883  2012-12    fall   clear  13.94  15.910        61    15.0013  \n",
       "10884  2012-12    fall   clear  13.94  17.425        61     6.0032  \n",
       "10885  2012-12    fall   clear  13.12  16.665        66     8.9981  \n",
       "\n",
       "[10886 rows x 13 columns]"
      ]
     },
     "execution_count": 78,
     "metadata": {},
     "output_type": "execute_result"
    }
   ],
   "source": [
    "# Inputkan kode disini\n",
    "bike_sharing_data"
   ]
  },
  {
   "cell_type": "markdown",
   "id": "0adeb0fa",
   "metadata": {
    "id": "0adeb0fa"
   },
   "source": [
    "Oke! datanya terlihat lebih baik. Sekarang kita coba lihat apakah musim dan cuaca berkorelasi terhadap jumlah peminjaman sepeda."
   ]
  },
  {
   "cell_type": "markdown",
   "id": "0dcf4289",
   "metadata": {
    "id": "0dcf4289"
   },
   "source": [
    "7. Berapa banyak jumlah peminjaman sepeda tiap musimnya pada tahun 2011 dan 2012"
   ]
  },
  {
   "cell_type": "code",
   "execution_count": null,
   "id": "7d775e45",
   "metadata": {
    "id": "7d775e45",
    "outputId": "94e0f82b-1e1f-45f0-e8c2-69d035850e19"
   },
   "outputs": [
    {
     "data": {
      "text/plain": [
       "year  season\n",
       "2011  fall      211594\n",
       "      spring    220006\n",
       "      summer    255248\n",
       "      winter     95131\n",
       "2012  fall      332440\n",
       "      spring    368276\n",
       "      summer    385414\n",
       "      winter    217367\n",
       "Name: count, dtype: int64"
      ]
     },
     "execution_count": 79,
     "metadata": {},
     "output_type": "execute_result"
    }
   ],
   "source": [
    "count_by_season = # Inputkan kode disini\n",
    "count_by_season"
   ]
  },
  {
   "cell_type": "markdown",
   "id": "bcae4ec7",
   "metadata": {
    "id": "bcae4ec7"
   },
   "source": [
    "8. a. Berapa jumlah peminjaman sepeda pada masing-masing kelompok cuaca?\n",
    "    \n",
    "   b. Apakah trend peminjaman berdasarkan cuaca berlaku di semua musim?"
   ]
  },
  {
   "cell_type": "code",
   "execution_count": null,
   "id": "623db5ec",
   "metadata": {
    "id": "623db5ec",
    "outputId": "0ab4a611-1259-4248-8a4c-51e0f622bc96"
   },
   "outputs": [
    {
     "data": {
      "text/plain": [
       "weather\n",
       "clear              1476063\n",
       "cloudy              507160\n",
       "heavy snow/rain        164\n",
       "light snow/rain     102089\n",
       "Name: count, dtype: int64"
      ]
     },
     "execution_count": 13,
     "metadata": {},
     "output_type": "execute_result"
    }
   ],
   "source": [
    "#8.a\n",
    "count_by_weather = # Inputkan kode disini\n",
    "count_by_weather"
   ]
  },
  {
   "cell_type": "code",
   "execution_count": null,
   "id": "83ce13ba",
   "metadata": {
    "id": "83ce13ba",
    "outputId": "650f05d3-9ef7-40d2-ae07-7add2c38a9c6"
   },
   "outputs": [
    {
     "data": {
      "text/plain": [
       "season  weather        \n",
       "fall    clear              356588\n",
       "        cloudy             157191\n",
       "        light snow/rain     30255\n",
       "spring  clear              426350\n",
       "        cloudy             134177\n",
       "        light snow/rain     27755\n",
       "summer  clear              470116\n",
       "        cloudy             139386\n",
       "        light snow/rain     31160\n",
       "winter  clear              223009\n",
       "        cloudy              76406\n",
       "        heavy snow/rain       164\n",
       "        light snow/rain     12919\n",
       "Name: count, dtype: int64"
      ]
     },
     "execution_count": 14,
     "metadata": {},
     "output_type": "execute_result"
    }
   ],
   "source": [
    "#8.b\n",
    "count_by_season_weather = # Inputkan kode disini\n",
    "count_by_season_weather"
   ]
  },
  {
   "cell_type": "markdown",
   "id": "6138951e",
   "metadata": {
    "id": "6138951e"
   },
   "source": [
    "\"Hmmm ternyata cuaca memiliki korelasi terhadap jumlah peminjaman sepeda\" sahut Valian sambil menatap layar PC Seta. <br />\n",
    "\"Iya benar, tidak hanya itu, Musim juga berkorelasi terhadap jumlah peminjaman Sepeda Val\". \n",
    "\n",
    "\"Bagaimana dengan temperature Ta?\" tanya Valian. <br />\n",
    "\"Mari kita lihat! Aku akan menampilkan data hariannya\" jawab Seta. <br />\n",
    "\"Bisakah kau mengikutkan data temperature, Namun tampilkan data rata-rata dari keduanya (coun dan temperature)\" tambah Valian. <br />\n",
    "\"Oke! aku coba dulu ya Val\" Seta kembali menatap monitornya"
   ]
  },
  {
   "cell_type": "markdown",
   "id": "49e7df07",
   "metadata": {
    "id": "49e7df07"
   },
   "source": [
    "9. Sajikan informasi mengenai trend harian jumlah peminjaman sepeda dan rata-rata temperature harian."
   ]
  },
  {
   "cell_type": "code",
   "execution_count": null,
   "id": "5ef73929",
   "metadata": {
    "id": "5ef73929",
    "outputId": "a98f3c49-561a-42df-96a5-1bceeec0a7a8"
   },
   "outputs": [
    {
     "data": {
      "text/plain": [
       "<AxesSubplot:xlabel='date'>"
      ]
     },
     "execution_count": 90,
     "metadata": {},
     "output_type": "execute_result"
    },
    {
     "data": {
      "image/png": "[encoded data removed]",
      "text/plain": [
       "<Figure size 864x288 with 1 Axes>"
      ]
     },
     "metadata": {
      "needs_background": "light"
     },
     "output_type": "display_data"
    },
    {
     "data": {
      "image/png": "[encoded data removed]",
      "text/plain": [
       "<Figure size 864x288 with 1 Axes>"
      ]
     },
     "metadata": {
      "needs_background": "light"
     },
     "output_type": "display_data"
    }
   ],
   "source": [
    "daily_count = # Inputkan kode disini\n",
    "daily_temp = # Inputkan kode disini\n",
    "\n",
    "daily_count.plot(figsize=(12, 4))\n",
    "daily_temp.plot(figsize=(12, 4))"
   ]
  },
  {
   "cell_type": "markdown",
   "id": "76a86979",
   "metadata": {
    "id": "76a86979"
   },
   "source": [
    "10. Gunakan operasi rolling window untuk melihat trend rata-rata tiap 20 hari.\n",
    "\n",
    "> Note: Set window = 20"
   ]
  },
  {
   "cell_type": "code",
   "execution_count": null,
   "id": "5b3bc901",
   "metadata": {
    "id": "5b3bc901",
    "outputId": "e88330ec-72cf-4206-94aa-01d53e3607c8"
   },
   "outputs": [
    {
     "data": {
      "image/png": "[encoded data removed]",
      "text/plain": [
       "<Figure size 1080x288 with 1 Axes>"
      ]
     },
     "metadata": {
      "needs_background": "light"
     },
     "output_type": "display_data"
    }
   ],
   "source": [
    "monthly_mean_count = # Inputkan kode disini\n",
    "\n",
    "fig, ax = plt.subplots(figsize=(15,4))\n",
    "\n",
    "ax.plot(daily_count['count'], marker='.', markersize=2, color='0.6',\n",
    "linestyle='None', label='Daily')\n",
    "\n",
    "ax.plot(monthly_mean_count.loc[:, 'count'],\n",
    "marker='.', linestyle='-', label='20-d Rolling Mean')\n",
    "\n",
    "ax.legend()\n",
    "ax.set_xlabel('month')\n",
    "ax.set_ylabel('Mean Count of Bike')\n",
    "ax.set_title('Trends in Bike Sharing');"
   ]
  },
  {
   "cell_type": "code",
   "execution_count": null,
   "id": "b85d9ae9",
   "metadata": {
    "id": "b85d9ae9",
    "outputId": "1152e31b-b7db-45ab-9463-9c367526c63d"
   },
   "outputs": [
    {
     "data": {
      "image/png": "[encoded data removed]",
      "text/plain": [
       "<Figure size 1080x288 with 1 Axes>"
      ]
     },
     "metadata": {
      "needs_background": "light"
     },
     "output_type": "display_data"
    }
   ],
   "source": [
    "monthly_mean_temp = # Inputkan kode disini\n",
    "monthly_mean_temp\n",
    "\n",
    "fig, ax = plt.subplots(figsize=(15,4))\n",
    "\n",
    "ax.plot(daily_temp['temp'], marker='.', markersize=2, color='0.6',\n",
    "linestyle='None', label='Daily')\n",
    "\n",
    "ax.plot(monthly_mean_temp.loc[:, 'temp'],\n",
    "marker='.', linestyle='-', label='20-d Rolling Mean')\n",
    "\n",
    "ax.legend()\n",
    "ax.set_xlabel('month')\n",
    "ax.set_ylabel('Mean Count of Bike')\n",
    "ax.set_title('Trends in Bike Sharing');"
   ]
  },
  {
   "cell_type": "markdown",
   "id": "f1b8d5ca",
   "metadata": {
    "id": "f1b8d5ca"
   },
   "source": [
    "####  Soal Bonus"
   ]
  },
  {
   "cell_type": "markdown",
   "id": "7b39285f",
   "metadata": {
    "id": "7b39285f"
   },
   "source": [
    "###### Apakah jumlah peminjaman sepeda yang dilakukan oleh user terdaftar dan tidak terdaftar memiliki trend yang sama tiap harinya? "
   ]
  },
  {
   "cell_type": "code",
   "execution_count": null,
   "id": "fc73d992",
   "metadata": {
    "id": "fc73d992",
    "outputId": "a428cf6c-e427-4775-9663-4e35e67aefa0"
   },
   "outputs": [
    {
     "name": "stderr",
     "output_type": "stream",
     "text": [
      "C:\\Users\\faiza\\AppData\\Local\\Temp\\ipykernel_19612\\1093711362.py:3: FutureWarning: Indexing with multiple keys (implicitly converted to a tuple of keys) will be deprecated, use a list instead.\n",
      "  day_group = bike_sharing_data.groupby(['dayname'])['casual', 'registered'].sum().reindex(cats)\n"
     ]
    },
    {
     "data": {
      "text/html": [
       "<div>\n",
       "<style scoped>\n",
       "    .dataframe tbody tr th:only-of-type {\n",
       "        vertical-align: middle;\n",
       "    }\n",
       "\n",
       "    .dataframe tbody tr th {\n",
       "        vertical-align: top;\n",
       "    }\n",
       "\n",
       "    .dataframe thead th {\n",
       "        text-align: right;\n",
       "    }\n",
       "</style>\n",
       "<table border=\"1\" class=\"dataframe\">\n",
       "  <thead>\n",
       "    <tr style=\"text-align: right;\">\n",
       "      <th></th>\n",
       "      <th>casual</th>\n",
       "      <th>registered</th>\n",
       "    </tr>\n",
       "    <tr>\n",
       "      <th>dayname</th>\n",
       "      <th></th>\n",
       "      <th></th>\n",
       "    </tr>\n",
       "  </thead>\n",
       "  <tbody>\n",
       "    <tr>\n",
       "      <th>Monday</th>\n",
       "      <td>46288</td>\n",
       "      <td>249008</td>\n",
       "    </tr>\n",
       "    <tr>\n",
       "      <th>Tuesday</th>\n",
       "      <td>35365</td>\n",
       "      <td>256620</td>\n",
       "    </tr>\n",
       "    <tr>\n",
       "      <th>Wednesday</th>\n",
       "      <td>34931</td>\n",
       "      <td>257295</td>\n",
       "    </tr>\n",
       "    <tr>\n",
       "      <th>Thursday</th>\n",
       "      <td>37283</td>\n",
       "      <td>269118</td>\n",
       "    </tr>\n",
       "    <tr>\n",
       "      <th>Friday</th>\n",
       "      <td>47402</td>\n",
       "      <td>255102</td>\n",
       "    </tr>\n",
       "    <tr>\n",
       "      <th>Saturday</th>\n",
       "      <td>100782</td>\n",
       "      <td>210736</td>\n",
       "    </tr>\n",
       "    <tr>\n",
       "      <th>Sunday</th>\n",
       "      <td>90084</td>\n",
       "      <td>195462</td>\n",
       "    </tr>\n",
       "  </tbody>\n",
       "</table>\n",
       "</div>"
      ],
      "text/plain": [
       "           casual  registered\n",
       "dayname                      \n",
       "Monday      46288      249008\n",
       "Tuesday     35365      256620\n",
       "Wednesday   34931      257295\n",
       "Thursday    37283      269118\n",
       "Friday      47402      255102\n",
       "Saturday   100782      210736\n",
       "Sunday      90084      195462"
      ]
     },
     "execution_count": 126,
     "metadata": {},
     "output_type": "execute_result"
    }
   ],
   "source": [
    "# Inputkan kode disini\n",
    "day_group"
   ]
  },
  {
   "cell_type": "code",
   "execution_count": null,
   "id": "280834ea",
   "metadata": {
    "id": "280834ea",
    "outputId": "8627b266-e523-4aea-c363-aad3a24baeb4"
   },
   "outputs": [
    {
     "data": {
      "text/plain": [
       "<AxesSubplot:xlabel='dayname'>"
      ]
     },
     "execution_count": 128,
     "metadata": {},
     "output_type": "execute_result"
    },
    {
     "data": {
      "image/png": "[encoded data removed]",
      "text/plain": [
       "<Figure size 864x288 with 1 Axes>"
      ]
     },
     "metadata": {
      "needs_background": "light"
     },
     "output_type": "display_data"
    }
   ],
   "source": [
    "day_group.plot(figsize=(12, 4))"
   ]
  },
  {
   "cell_type": "markdown",
   "id": "d15be7f0",
   "metadata": {
    "id": "d15be7f0"
   },
   "source": [
    "Berikan argumen anda, kemungkinan apa yang dapat menyebabkan trend tersebut?"
   ]
  },
  {
   "cell_type": "markdown",
   "id": "af1ae14e",
   "metadata": {
    "id": "af1ae14e"
   },
   "source": []
  },
  {
   "cell_type": "markdown",
   "id": "3c366325",
   "metadata": {
    "id": "3c366325"
   },
   "source": [
    "###### Bagaimana dengan trend jumlah peminjaman sepeda yang dilakukan oleh user terdaftar dan tidak terdaftar tiap jamnya  ?"
   ]
  },
  {
   "cell_type": "code",
   "execution_count": null,
   "id": "7dc483c0",
   "metadata": {
    "id": "7dc483c0",
    "outputId": "cb9f81e7-5414-403f-ed08-425410141fd6"
   },
   "outputs": [
    {
     "name": "stderr",
     "output_type": "stream",
     "text": [
      "C:\\Users\\faiza\\AppData\\Local\\Temp\\ipykernel_19612\\596763310.py:2: FutureWarning: Indexing with multiple keys (implicitly converted to a tuple of keys) will be deprecated, use a list instead.\n",
      "  hour_group = bike_sharing_data.groupby('hour')['casual', 'registered'].sum()\n"
     ]
    },
    {
     "data": {
      "text/plain": [
       "<AxesSubplot:ylabel='hour'>"
      ]
     },
     "execution_count": 99,
     "metadata": {},
     "output_type": "execute_result"
    },
    {
     "data": {
      "image/png": "[encoded data removed]",
      "text/plain": [
       "<Figure size 432x288 with 2 Axes>"
      ]
     },
     "metadata": {
      "needs_background": "light"
     },
     "output_type": "display_data"
    }
   ],
   "source": [
    "hour_group = # Inputkan kode disini\n",
    "sns.heatmap(hour_group, cmap='icefire')"
   ]
  },
  {
   "cell_type": "code",
   "execution_count": null,
   "id": "b52719fb",
   "metadata": {
    "id": "b52719fb",
    "outputId": "f577720f-1920-4323-c7b9-0adcaa55dbf3"
   },
   "outputs": [
    {
     "data": {
      "text/plain": [
       "[Text(0, 0, '0'),\n",
       " Text(1, 0, '1'),\n",
       " Text(2, 0, '2'),\n",
       " Text(3, 0, '3'),\n",
       " Text(4, 0, '4'),\n",
       " Text(5, 0, '5'),\n",
       " Text(6, 0, '6'),\n",
       " Text(7, 0, '7'),\n",
       " Text(8, 0, '8'),\n",
       " Text(9, 0, '9'),\n",
       " Text(10, 0, '10'),\n",
       " Text(11, 0, '11'),\n",
       " Text(12, 0, '12'),\n",
       " Text(13, 0, '13'),\n",
       " Text(14, 0, '14'),\n",
       " Text(15, 0, '15'),\n",
       " Text(16, 0, '16'),\n",
       " Text(17, 0, '17'),\n",
       " Text(18, 0, '18'),\n",
       " Text(19, 0, '19'),\n",
       " Text(20, 0, '20'),\n",
       " Text(21, 0, '21'),\n",
       " Text(22, 0, '22'),\n",
       " Text(23, 0, '23')]"
      ]
     },
     "execution_count": 132,
     "metadata": {},
     "output_type": "execute_result"
    },
    {
     "data": {
      "image/png": "[encoded data removed]",
      "text/plain": [
       "<Figure size 864x288 with 1 Axes>"
      ]
     },
     "metadata": {
      "needs_background": "light"
     },
     "output_type": "display_data"
    }
   ],
   "source": [
    "ax = hour_group.plot(figsize=(12, 4))\n",
    "ax.set_xticks(range(len(list(hour_group.index))))\n",
    "ax.set_xticklabels(list(hour_group.index))"
   ]
  },
  {
   "cell_type": "markdown",
   "id": "b6a71e84",
   "metadata": {
    "id": "b6a71e84"
   },
   "source": [
    "Berikan argumen anda, kemungkinan apa yang dapat menyebabkan trend tersebut?"
   ]
  },
  {
   "cell_type": "markdown",
   "id": "430b9ec4",
   "metadata": {
    "id": "430b9ec4"
   },
   "source": [
    " "
   ]
  }
 ],
 "metadata": {
  "colab": {
   "collapsed_sections": [],
   "name": "Tugas 3.ipynb",
   "provenance": []
  },
  "kernelspec": {
   "display_name": "Python 3 (ipykernel)",
   "language": "python",
   "name": "python3"
  },
  "language_info": {
   "codemirror_mode": {
    "name": "ipython",
    "version": 3
   },
   "file_extension": ".py",
   "mimetype": "text/x-python",
   "name": "python",
   "nbconvert_exporter": "python",
   "pygments_lexer": "ipython3",
   "version": "3.9.10"
  }
 },
 "nbformat": 4,
 "nbformat_minor": 5
}
