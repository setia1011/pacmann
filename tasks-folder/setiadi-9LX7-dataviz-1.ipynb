{
 "cells": [
  {
   "cell_type": "markdown",
   "id": "137b8c06",
   "metadata": {
    "id": "137b8c06"
   },
   "source": [
    "# Tugas Data Visualization 1\n",
    "\n",
    "* Silakan download dan kerjakan soal berikut dimanapun (laptop pribadi/google colab/etc.)\n",
    "* Setelah selesai mengerjakan, upload file ini di tempat yang telah disediakan pada platform.\n",
    "* Beri nama file seperti berikut: {username}-dataviz-1.ipynb\n",
    "* Contoh: johndoe-ab12-dataviz-1.ipynb\n",
    "* Tutorial: https://discourse.pacmann.ai/t/pengumuman-seluruh-platform-pacmann-ai/409\n",
    "* Username dapat dilihat di dalam akun anda.\n",
    "* Mohon jangan mengubah nama variabel yang telah diberikan.\n",
    "* Namun anda diperbolehkan untuk menambah variabel apapun.\n",
    "---"
   ]
  },
  {
   "cell_type": "code",
   "execution_count": 1,
   "id": "69ed280e",
   "metadata": {
    "id": "69ed280e"
   },
   "outputs": [],
   "source": [
    "import pandas as pd\n",
    "import numpy as np\n",
    "import seaborn as sns\n",
    "%matplotlib inline\n",
    "import matplotlib.pyplot as plt\n",
    "import statistics as stats\n",
    "\n",
    "import warnings \n",
    "\n",
    "warnings.simplefilter(action='ignore', category=FutureWarning)"
   ]
  },
  {
   "cell_type": "markdown",
   "id": "bb6ff4c8",
   "metadata": {
    "id": "bb6ff4c8"
   },
   "source": [
    "##### Catatan: Anda diperbolehkan menggunakan matplotlib atau seaborn"
   ]
  },
  {
   "cell_type": "markdown",
   "id": "31f8f26e",
   "metadata": {
    "id": "31f8f26e"
   },
   "source": [
    "### 1.A. Diberikan distribusi nilai ujian fisika pada angkatan A dan B. Untuk membandingkan distribusi kedua kelompok, gunakan boxplot. *(10 poin)*"
   ]
  },
  {
   "cell_type": "code",
   "execution_count": 2,
   "id": "0b17a60c",
   "metadata": {
    "id": "0b17a60c",
    "outputId": "8d6a0b32-3d04-444d-cc69-7c7b6ed48443"
   },
   "outputs": [
    {
     "data": {
      "image/png": "[encoded data removed]",
      "text/plain": [
       "<Figure size 432x288 with 1 Axes>"
      ]
     },
     "metadata": {
      "needs_background": "light"
     },
     "output_type": "display_data"
    }
   ],
   "source": [
    "np.random.seed(0)\n",
    "angkatan_A = 75 + np.random.randn(1000) * 5\n",
    "angkatan_B = 75 + np.random.gamma(1,1,size=1000)*5\n",
    "data = [angkatan_A,angkatan_B]\n",
    "\n",
    "# tulis code Anda di sini\n",
    "fig, ax = plt.subplots()\n",
    "ax.boxplot(data)\n",
    "ax.set_xticklabels(['Angkatan A', 'Angkatan B'])\n",
    "\n",
    "plt.show()"
   ]
  },
  {
   "cell_type": "markdown",
   "id": "e9326058",
   "metadata": {
    "id": "e9326058"
   },
   "source": [
    "### 1.B. Dengan data pada nomor 1, plot distribusinya menggunakan histogram, sajikan kedua histogram pada 2 axes yang berbeda. *(10 poin)*"
   ]
  },
  {
   "cell_type": "code",
   "execution_count": 3,
   "id": "f60c2869",
   "metadata": {
    "id": "f60c2869",
    "outputId": "b8ece178-59f9-41bc-8cbe-0812fc697734"
   },
   "outputs": [
    {
     "data": {
      "image/png": "[encoded data removed]",
      "text/plain": [
       "<Figure size 432x288 with 2 Axes>"
      ]
     },
     "metadata": {
      "needs_background": "light"
     },
     "output_type": "display_data"
    }
   ],
   "source": [
    "# tulis code Anda di sini\n",
    "fig, axs = plt.subplots(1, 2, sharey=True, tight_layout=True)\n",
    "\n",
    "axs[0].hist(angkatan_A, bins=100);\n",
    "axs[0].set_title('Angkatan A');\n",
    "\n",
    "axs[1].hist(angkatan_B, bins=100);\n",
    "axs[1].set_title('Angkatan B');"
   ]
  },
  {
   "cell_type": "markdown",
   "id": "a3ecd5fb",
   "metadata": {
    "id": "a3ecd5fb"
   },
   "source": [
    "### 1.C. Diberikan range pada sumbu X dan Y. Jika diberikan persamaan  *(10 poin)*\n",
    "$$ Z = X^2 - Y^2 $$\n",
    "\n",
    "Plot kontur dari $Z$ dengan menggunakan `contourf`"
   ]
  },
  {
   "cell_type": "code",
   "execution_count": 4,
   "id": "5ad3de38",
   "metadata": {
    "id": "5ad3de38",
    "outputId": "ff3db624-05da-470d-b590-e01714015295"
   },
   "outputs": [
    {
     "data": {
      "image/png": "[encoded data removed]",
      "text/plain": [
       "<Figure size 432x288 with 1 Axes>"
      ]
     },
     "metadata": {
      "needs_background": "light"
     },
     "output_type": "display_data"
    }
   ],
   "source": [
    "N = 100\n",
    "x = np.linspace(-2.0, 2.0, N)\n",
    "y = np.linspace(-2.0, 2.0, N)\n",
    "X, Y = np.meshgrid(x, y)\n",
    "\n",
    "Z = X**2 - Y**2\n",
    "\n",
    "# tulis code Anda di sini\n",
    "fig, ax=plt.subplots(1,1)\n",
    "cp = ax.contourf(x, y, Z)\n",
    "plt.show()"
   ]
  },
  {
   "cell_type": "markdown",
   "id": "4b85670d",
   "metadata": {
    "id": "4b85670d"
   },
   "source": [
    "Terdapat dataset publik: Housing Price. Dataset ini berisi berbagai informasi mengenai properti-properti yang dijual, misalnya jumlah kamar tidur, ukuran tanah, dll. Namun, dalam tugas kali ini kita hanya akan menggunakan kolom:\n",
    "\n",
    "* MSZoning: Klasifikasi zona lokasi properti\n",
    "  * RH: Zona perumahan padat\n",
    "  * RM: Zona perumahan sedang\n",
    "  * RL: Zona perumahan lengang\n",
    "\n",
    "* SalePrice: Harga jual properti dalam USD"
   ]
  },
  {
   "cell_type": "markdown",
   "id": "08697393",
   "metadata": {
    "id": "08697393"
   },
   "source": [
    "### Import Data"
   ]
  },
  {
   "cell_type": "code",
   "execution_count": 5,
   "id": "51146233",
   "metadata": {
    "id": "51146233",
    "outputId": "32bf70d6-7a94-45ce-83d1-cbc2ab6549e9"
   },
   "outputs": [
    {
     "data": {
      "text/html": [
       "<div>\n",
       "<style scoped>\n",
       "    .dataframe tbody tr th:only-of-type {\n",
       "        vertical-align: middle;\n",
       "    }\n",
       "\n",
       "    .dataframe tbody tr th {\n",
       "        vertical-align: top;\n",
       "    }\n",
       "\n",
       "    .dataframe thead th {\n",
       "        text-align: right;\n",
       "    }\n",
       "</style>\n",
       "<table border=\"1\" class=\"dataframe\">\n",
       "  <thead>\n",
       "    <tr style=\"text-align: right;\">\n",
       "      <th></th>\n",
       "      <th>MSZoning</th>\n",
       "      <th>SalePrice</th>\n",
       "    </tr>\n",
       "    <tr>\n",
       "      <th>Id</th>\n",
       "      <th></th>\n",
       "      <th></th>\n",
       "    </tr>\n",
       "  </thead>\n",
       "  <tbody>\n",
       "    <tr>\n",
       "      <th>1</th>\n",
       "      <td>RL</td>\n",
       "      <td>208500</td>\n",
       "    </tr>\n",
       "    <tr>\n",
       "      <th>2</th>\n",
       "      <td>RL</td>\n",
       "      <td>181500</td>\n",
       "    </tr>\n",
       "    <tr>\n",
       "      <th>3</th>\n",
       "      <td>RL</td>\n",
       "      <td>223500</td>\n",
       "    </tr>\n",
       "    <tr>\n",
       "      <th>4</th>\n",
       "      <td>RL</td>\n",
       "      <td>140000</td>\n",
       "    </tr>\n",
       "    <tr>\n",
       "      <th>5</th>\n",
       "      <td>RL</td>\n",
       "      <td>250000</td>\n",
       "    </tr>\n",
       "    <tr>\n",
       "      <th>...</th>\n",
       "      <td>...</td>\n",
       "      <td>...</td>\n",
       "    </tr>\n",
       "    <tr>\n",
       "      <th>1456</th>\n",
       "      <td>RL</td>\n",
       "      <td>175000</td>\n",
       "    </tr>\n",
       "    <tr>\n",
       "      <th>1457</th>\n",
       "      <td>RL</td>\n",
       "      <td>210000</td>\n",
       "    </tr>\n",
       "    <tr>\n",
       "      <th>1458</th>\n",
       "      <td>RL</td>\n",
       "      <td>266500</td>\n",
       "    </tr>\n",
       "    <tr>\n",
       "      <th>1459</th>\n",
       "      <td>RL</td>\n",
       "      <td>142125</td>\n",
       "    </tr>\n",
       "    <tr>\n",
       "      <th>1460</th>\n",
       "      <td>RL</td>\n",
       "      <td>147500</td>\n",
       "    </tr>\n",
       "  </tbody>\n",
       "</table>\n",
       "<p>1460 rows × 2 columns</p>\n",
       "</div>"
      ],
      "text/plain": [
       "     MSZoning  SalePrice\n",
       "Id                      \n",
       "1          RL     208500\n",
       "2          RL     181500\n",
       "3          RL     223500\n",
       "4          RL     140000\n",
       "5          RL     250000\n",
       "...       ...        ...\n",
       "1456       RL     175000\n",
       "1457       RL     210000\n",
       "1458       RL     266500\n",
       "1459       RL     142125\n",
       "1460       RL     147500\n",
       "\n",
       "[1460 rows x 2 columns]"
      ]
     },
     "execution_count": 5,
     "metadata": {},
     "output_type": "execute_result"
    }
   ],
   "source": [
    "# Prepare dataset -- sesuaikan dengan direktori Anda\n",
    "\n",
    "df = pd.read_csv('../data/train_house.csv', index_col=0)\n",
    "\n",
    "house = df[['MSZoning', 'SalePrice']]\n",
    "house"
   ]
  },
  {
   "cell_type": "markdown",
   "id": "3a2b1667",
   "metadata": {
    "id": "3a2b1667"
   },
   "source": [
    "### Check Missing Data"
   ]
  },
  {
   "cell_type": "code",
   "execution_count": 6,
   "id": "d659272c",
   "metadata": {
    "id": "d659272c",
    "outputId": "eadfd75d-38ca-4288-a414-57e4d33e6fb6"
   },
   "outputs": [
    {
     "data": {
      "text/html": [
       "<div>\n",
       "<style scoped>\n",
       "    .dataframe tbody tr th:only-of-type {\n",
       "        vertical-align: middle;\n",
       "    }\n",
       "\n",
       "    .dataframe tbody tr th {\n",
       "        vertical-align: top;\n",
       "    }\n",
       "\n",
       "    .dataframe thead th {\n",
       "        text-align: right;\n",
       "    }\n",
       "</style>\n",
       "<table border=\"1\" class=\"dataframe\">\n",
       "  <thead>\n",
       "    <tr style=\"text-align: right;\">\n",
       "      <th></th>\n",
       "      <th>Total</th>\n",
       "      <th>Percent</th>\n",
       "    </tr>\n",
       "  </thead>\n",
       "  <tbody>\n",
       "    <tr>\n",
       "      <th>MSZoning</th>\n",
       "      <td>0</td>\n",
       "      <td>0.0</td>\n",
       "    </tr>\n",
       "    <tr>\n",
       "      <th>SalePrice</th>\n",
       "      <td>0</td>\n",
       "      <td>0.0</td>\n",
       "    </tr>\n",
       "  </tbody>\n",
       "</table>\n",
       "</div>"
      ],
      "text/plain": [
       "           Total  Percent\n",
       "MSZoning       0      0.0\n",
       "SalePrice      0      0.0"
      ]
     },
     "execution_count": 6,
     "metadata": {},
     "output_type": "execute_result"
    }
   ],
   "source": [
    "# Cek apakah ada data yang kosong -- jangan diganti\n",
    "\n",
    "total = house.isnull().sum().sort_values(ascending=False)\n",
    "percent = (house.isnull().sum()/house.isnull().count()).sort_values(ascending=False)\n",
    "missing_data = pd.concat([total, percent], axis=1, keys=['Total', 'Percent'])\n",
    "missing_data"
   ]
  },
  {
   "cell_type": "markdown",
   "id": "5a38a294",
   "metadata": {
    "id": "5a38a294"
   },
   "source": [
    "### 2. Buat histogram data `SalePrice` untuk kategori `MSZoning` `RH`, `RM`, dan `RL`  *(40 poin)*"
   ]
  },
  {
   "cell_type": "code",
   "execution_count": 7,
   "id": "2b919369",
   "metadata": {
    "id": "2b919369",
    "outputId": "2c984e4c-1d1f-4b28-fb55-69b5068ddf42"
   },
   "outputs": [
    {
     "name": "stdout",
     "output_type": "stream",
     "text": [
      "Kategori MSZoning =  ['RL' 'RM' 'C (all)' 'FV' 'RH']\n"
     ]
    }
   ],
   "source": [
    "# Mencari tahu kategori dalam MSZoning\n",
    "\n",
    "kategori = house.MSZoning.unique()\n",
    "print('Kategori MSZoning = ', kategori)"
   ]
  },
  {
   "cell_type": "code",
   "execution_count": 8,
   "id": "6b8328f4",
   "metadata": {
    "id": "6b8328f4",
    "outputId": "f1b18986-e38c-4d1d-d375-cad5366bf46b"
   },
   "outputs": [
    {
     "data": {
      "image/png": "[encoded data removed]",
      "text/plain": [
       "<Figure size 432x288 with 1 Axes>"
      ]
     },
     "metadata": {
      "needs_background": "light"
     },
     "output_type": "display_data"
    }
   ],
   "source": [
    "# tulis code Anda di sini\n",
    "datax = house.groupby(['MSZoning']).sum().reset_index().sort_values(by=['SalePrice'], ascending=False)\n",
    "\n",
    "SalePrice = datax.SalePrice\n",
    "MSZoning = datax.MSZoning\n",
    "\n",
    "colors = ['#1f77b4', '#ff7f0e', '#2ca02c', '#d62728', '#9467bd',\n",
    "          '#8c564b', '#e377c2', '#7f7f7f', '#bcbd22', '#17becf']\n",
    "\n",
    "plt.bar(MSZoning, SalePrice, color=colors)\n",
    "plt.show()"
   ]
  },
  {
   "cell_type": "code",
   "execution_count": 9,
   "id": "9138a7bc",
   "metadata": {
    "id": "9138a7bc",
    "outputId": "1e528b1c-798f-471c-e943-c0dfc35e6478"
   },
   "outputs": [
    {
     "name": "stdout",
     "output_type": "stream",
     "text": [
      "Mean RH = 131558.375\n",
      "Median RH = 136500.0\n",
      "Mode RH = 145000\n"
     ]
    }
   ],
   "source": [
    "RH = house.SalePrice.loc[house.MSZoning == 'RH']\n",
    "# tulis code Anda di sini\n",
    "print(f'Mean RH = {np.mean(RH)}')\n",
    "print(f'Median RH = {np.median(RH)}')\n",
    "print(f'Mode RH = {RH.mode()[0]}')\n"
   ]
  },
  {
   "cell_type": "code",
   "execution_count": 10,
   "id": "7803e1d8",
   "metadata": {
    "id": "7803e1d8",
    "outputId": "6fb5c5c1-d310-41a8-e4aa-8fdca776d448"
   },
   "outputs": [
    {
     "name": "stdout",
     "output_type": "stream",
     "text": [
      "Mean RH = 126316.83027522935\n",
      "Median RH = 120500.0\n",
      "Mode RH = 115000\n"
     ]
    }
   ],
   "source": [
    "RM = house.SalePrice.loc[house.MSZoning == 'RM']\n",
    "# tulis code Anda di sini\n",
    "print(f'Mean RH = {np.mean(RM)}')\n",
    "print(f'Median RH = {np.median(RM)}')\n",
    "print(f'Mode RH = {RM.mode()[0]}')\n"
   ]
  },
  {
   "cell_type": "code",
   "execution_count": 11,
   "id": "6c1e5eb2",
   "metadata": {
    "id": "6c1e5eb2",
    "outputId": "cb41a26e-e002-46eb-edf7-a34e040d3806"
   },
   "outputs": [
    {
     "name": "stdout",
     "output_type": "stream",
     "text": [
      "Mean RH = 191004.99478714162\n",
      "Median RH = 174000.0\n",
      "Mode RH = 135000\n"
     ]
    }
   ],
   "source": [
    "# Central tendency RL\n",
    "RL = house.SalePrice.loc[house.MSZoning == 'RL']\n",
    "# tulis code Anda di sini\n",
    "print(f'Mean RH = {np.mean(RL)}')\n",
    "print(f'Median RH = {np.median(RL)}')\n",
    "print(f'Mode RH = {RL.mode()[0]}')"
   ]
  },
  {
   "cell_type": "code",
   "execution_count": 13,
   "id": "9e5bc8e8",
   "metadata": {
    "id": "9e5bc8e8",
    "outputId": "65d13fc2-6389-468c-8850-a23118332ed1"
   },
   "outputs": [
    {
     "data": {
      "image/png": "[encoded data removed]",
      "text/plain": [
       "<Figure size 432x288 with 1 Axes>"
      ]
     },
     "metadata": {
      "needs_background": "light"
     },
     "output_type": "display_data"
    }
   ],
   "source": [
    "# tulis code Anda di sini\n",
    "x1 = np.array(house.SalePrice.loc[house.MSZoning == 'RH'])\n",
    "p1 = sns.distplot(x1, axlabel='RH', bins=3)\n",
    "\n",
    "# Mean and Median\n",
    "line1 = plt.axvline(x1.mean(), color=\"b\", linestyle=\"--\", label = \"mean\")\n",
    "line2 = plt.axvline(np.median(x1), color=\"r\", linestyle=\"--\", label = \"median\")\n",
    "\n",
    "# Mode\n",
    "foo1, foo2 = p1.get_lines()[0].get_data()\n",
    "idx = np.argmax(foo2)\n",
    "line3 = plt.axvline(foo1[idx], color=\"g\", linestyle=\"--\", label = \"mode\")\n",
    "\n",
    "first_legend = plt.legend(handles=[line1, line2, line3], loc=1)\n",
    "plt.show()"
   ]
  },
  {
   "cell_type": "code",
   "execution_count": 20,
   "id": "151ba37a",
   "metadata": {
    "id": "151ba37a",
    "outputId": "a2279a1b-99e8-4e92-b37e-2b5168a80c74"
   },
   "outputs": [
    {
     "data": {
      "image/png": "[encoded data removed]",
      "text/plain": [
       "<Figure size 432x288 with 1 Axes>"
      ]
     },
     "metadata": {
      "needs_background": "light"
     },
     "output_type": "display_data"
    }
   ],
   "source": [
    "# tulis code Anda di sini\n",
    "x2 = np.array(house.SalePrice.loc[house.MSZoning == 'RM'])\n",
    "p2 = sns.distplot(x2, axlabel='RM', bins=15)\n",
    "\n",
    "# Mean and Median\n",
    "line1 = plt.axvline(x2.mean(), color=\"b\", linestyle=\"--\", label = \"mean\")\n",
    "line2 = plt.axvline(np.median(x2), color=\"r\", linestyle=\"--\", label = \"median\")\n",
    "\n",
    "# Mode\n",
    "foo1, foo2 = p2.get_lines()[0].get_data()\n",
    "idx = np.argmax(foo2)\n",
    "line3 = plt.axvline(foo1[idx], color=\"g\", linestyle=\"--\", label = \"mode\")\n",
    "\n",
    "first_legend = plt.legend(handles=[line1, line2, line3], loc=1)\n",
    "plt.show()"
   ]
  },
  {
   "cell_type": "code",
   "execution_count": 19,
   "id": "e492a288-1cf7-44cb-b2db-c8a60622d4c0",
   "metadata": {},
   "outputs": [
    {
     "data": {
      "image/png": "[encoded data removed]",
      "text/plain": [
       "<Figure size 432x288 with 1 Axes>"
      ]
     },
     "metadata": {
      "needs_background": "light"
     },
     "output_type": "display_data"
    }
   ],
   "source": [
    "# tulis code Anda di sini\n",
    "\n",
    "x3 = np.array(house.SalePrice.loc[house.MSZoning == 'RL'])\n",
    "p3 = sns.distplot(x3, axlabel='RL', bins=15)\n",
    "\n",
    "# Mean and Median\n",
    "line1 = plt.axvline(x3.mean(), color=\"b\", linestyle=\"--\", label = \"mean\")\n",
    "line2 = plt.axvline(np.median(x3), color=\"r\", linestyle=\"--\", label = \"median\")\n",
    "\n",
    "# Mode\n",
    "foo1, foo2 = p3.get_lines()[0].get_data()\n",
    "idx = np.argmax(foo2)\n",
    "line3 = plt.axvline(foo1[idx], color=\"g\", linestyle=\"--\", label = \"mode\")\n",
    "\n",
    "first_legend = plt.legend(handles=[line1, line2, line3], loc=1)\n",
    "plt.show()"
   ]
  },
  {
   "cell_type": "markdown",
   "id": "ec256c35",
   "metadata": {
    "id": "ec256c35"
   },
   "source": [
    "### 3. Tentukan bentuk tiap-tiap histogram!  *(5 poin)*"
   ]
  },
  {
   "cell_type": "markdown",
   "id": "eafbf9ee",
   "metadata": {
    "id": "eafbf9ee"
   },
   "source": [
    "Jawab:\n",
    "..."
   ]
  },
  {
   "cell_type": "markdown",
   "id": "554c35d3",
   "metadata": {
    "id": "554c35d3"
   },
   "source": [
    "### 4. Buat analisis mengenai distribusi SalePrice dihubungkan dengan informasi mengenai MSZoning!  *(25 poin)*"
   ]
  },
  {
   "cell_type": "markdown",
   "id": "75299161",
   "metadata": {
    "id": "75299161"
   },
   "source": [
    "Tulis analisis Anda di sini!\n",
    "..."
   ]
  },
  {
   "cell_type": "code",
   "execution_count": null,
   "id": "3ca6deff",
   "metadata": {
    "id": "3ca6deff"
   },
   "outputs": [],
   "source": []
  },
  {
   "cell_type": "code",
   "execution_count": null,
   "id": "22819580",
   "metadata": {
    "id": "22819580"
   },
   "outputs": [],
   "source": []
  }
 ],
 "metadata": {
  "colab": {
   "name": "Tugas 1 - Soal.ipynb",
   "provenance": []
  },
  "kernelspec": {
   "display_name": "Python 3 (ipykernel)",
   "language": "python",
   "name": "python3"
  },
  "language_info": {
   "codemirror_mode": {
    "name": "ipython",
    "version": 3
   },
   "file_extension": ".py",
   "mimetype": "text/x-python",
   "name": "python",
   "nbconvert_exporter": "python",
   "pygments_lexer": "ipython3",
   "version": "3.9.10"
  }
 },
 "nbformat": 4,
 "nbformat_minor": 5
}
