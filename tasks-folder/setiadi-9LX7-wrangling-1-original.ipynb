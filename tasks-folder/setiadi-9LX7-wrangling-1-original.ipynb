{
 "cells": [
  {
   "cell_type": "markdown",
   "id": "e3bb78b0",
   "metadata": {
    "id": "e3bb78b0"
   },
   "source": [
    "# Tugas Wrangling 1\n",
    "\n",
    "* Silakan download dan kerjakan soal berikut dimanapun (laptop pribadi/google colab/etc.)\n",
    "* Setelah selesai mengerjakan, upload file ini di tempat yang telah disediakan pada platform.\n",
    "* Beri nama file seperti berikut: {username}-wrangling-1.ipynb\n",
    "* Contoh: johndoe-ab12-wrangling-1.ipynb\n",
    "* Tutorial: https://discourse.pacmann.ai/t/pengumuman-seluruh-platform-pacmann-ai/409\n",
    "* Username dapat dilihat di dalam akun anda.\n",
    "* Mohon jangan mengubah nama variabel yang telah diberikan.\n",
    "* Namun anda diperbolehkan untuk menambah variabel apapun.\n",
    "* **Langkah-langkah pengerjaan** dimaksudkan untuk membantu anda membuat fungsi, namun jika anda ingin menggunakan cara lain, dipersilahkan\n",
    "---"
   ]
  },
  {
   "cell_type": "code",
   "execution_count": null,
   "id": "0e163259",
   "metadata": {
    "id": "0e163259"
   },
   "outputs": [],
   "source": [
    "import numpy as np\n",
    "import pandas as pd"
   ]
  },
  {
   "cell_type": "markdown",
   "id": "11206f7e",
   "metadata": {
    "id": "11206f7e"
   },
   "source": [
    "1. Memasuki bulan kesehatan, puskesmas Asgard melakukan kunjungan ke SMA 1 Asgard untuk melakukan monitoring **Indeks Massa Tubuh** (IMT) para siswa. Dari kunjungan tersebut sekolah ternyata telah memiliki data mengenai tinggi badan (dalam meter) dan berat badan (dalam kg) dari siswa yang disimpan ke dalam dictionary. \n",
    "\n",
    "- Tugas anda adalah membuat sebuah elemen baru didalam dictionary dengan keynya **imt** dan valuenya merupakan hasil perhitungan imt (10 Poin)\n",
    "\n",
    "$$IMT = \\frac{berat \\ badan (kg)}{tinggi\\ badan(m)^2}$$\n",
    "\n",
    "   >note: hasil perhitungan imt dibulatkan menjadi 2 angka dibelakang koma\n",
    "\n",
    "\n",
    "  - Dari data siswa yang telah diupdate dengan menambahkan imt-nya, buatlah list imt dari semua siswa kemudian hitung rata-rata imt dari siswa-siswa SMA Asgard. (10 Poin)\n",
    "\n",
    "> Hint : anda dapat menggunakan list comprehension untuk mendapatkan data imt tiap siswa "
   ]
  },
  {
   "cell_type": "code",
   "execution_count": null,
   "id": "e12cf50a",
   "metadata": {
    "id": "e12cf50a"
   },
   "outputs": [],
   "source": [
    "data = [{'nama': 'Senpai', 'tinggi': 1.55, 'berat': 63.41},\n",
    " {'nama': 'Yui Rio', 'tinggi': 1.53, 'berat': 61.17},\n",
    " {'nama': 'Yuna Hina', 'tinggi': 1.62, 'berat': 70.98},\n",
    " {'nama': 'Koharu Hinata', 'tinggi': 1.77, 'berat': 53.45},\n",
    " {'nama': 'Mei Mio', 'tinggi': 1.58, 'berat': 67.81},\n",
    " {'nama': 'Saki Miyu', 'tinggi': 1.57, 'berat': 68.12},\n",
    " {'nama': 'Kokona Haruka', 'tinggi': 1.76, 'berat': 61.96},\n",
    " {'nama': 'Haruto Yuto', 'tinggi': 1.52, 'berat': 64.89},\n",
    " {'nama': 'Sota Yuki', 'tinggi': 1.62, 'berat': 56.73},\n",
    " {'nama': 'Hayato Haruki', 'tinggi': 1.68, 'berat': 69.07},\n",
    " {'nama': 'Ryusei Koki', 'tinggi': 1.66, 'berat': 53.02},\n",
    " {'nama': 'Sora Sosuke', 'tinggi': 1.5, 'berat': 55.89},\n",
    " {'nama': 'Riku Soma', 'tinggi': 1.62, 'berat': 78.24}]"
   ]
  },
  {
   "cell_type": "code",
   "execution_count": null,
   "id": "df10cfe4",
   "metadata": {
    "id": "df10cfe4",
    "outputId": "9be5cecb-79c6-4fd2-a853-820ad48a6441"
   },
   "outputs": [
    {
     "data": {
      "text/plain": [
       "[{'nama': 'Senpai', 'tinggi': 1.55, 'berat': 63.41, 'imt': 26.39},\n",
       " {'nama': 'Yui Rio', 'tinggi': 1.53, 'berat': 61.17, 'imt': 26.13},\n",
       " {'nama': 'Yuna Hina', 'tinggi': 1.62, 'berat': 70.98, 'imt': 27.05},\n",
       " {'nama': 'Koharu Hinata', 'tinggi': 1.77, 'berat': 53.45, 'imt': 17.06},\n",
       " {'nama': 'Mei Mio', 'tinggi': 1.58, 'berat': 67.81, 'imt': 27.16},\n",
       " {'nama': 'Saki Miyu', 'tinggi': 1.57, 'berat': 68.12, 'imt': 27.64},\n",
       " {'nama': 'Kokona Haruka', 'tinggi': 1.76, 'berat': 61.96, 'imt': 20.0},\n",
       " {'nama': 'Haruto Yuto', 'tinggi': 1.52, 'berat': 64.89, 'imt': 28.09},\n",
       " {'nama': 'Sota Yuki', 'tinggi': 1.62, 'berat': 56.73, 'imt': 21.62},\n",
       " {'nama': 'Hayato Haruki', 'tinggi': 1.68, 'berat': 69.07, 'imt': 24.47},\n",
       " {'nama': 'Ryusei Koki', 'tinggi': 1.66, 'berat': 53.02, 'imt': 19.24},\n",
       " {'nama': 'Sora Sosuke', 'tinggi': 1.5, 'berat': 55.89, 'imt': 24.84},\n",
       " {'nama': 'Riku Soma', 'tinggi': 1.62, 'berat': 78.24, 'imt': 29.81}]"
      ]
     },
     "execution_count": 47,
     "metadata": {},
     "output_type": "execute_result"
    }
   ],
   "source": [
    "# Menambah elemen imt ke dictionary\n",
    "# Tuliskan Kode disini"
   ]
  },
  {
   "cell_type": "code",
   "execution_count": null,
   "id": "ff8e871a",
   "metadata": {
    "id": "ff8e871a",
    "outputId": "8178e048-b3e7-4992-c36e-f01ba4bf41cd"
   },
   "outputs": [
    {
     "data": {
      "text/plain": [
       "24.58"
      ]
     },
     "execution_count": 48,
     "metadata": {},
     "output_type": "execute_result"
    }
   ],
   "source": [
    "# rata-rata imt\n",
    "list_imt = # Tuliskan Kode disini\n",
    "mean_imt = # Tuliskan Kode disini\n",
    "print(\"Rata-rata indeks massa tubuh siswa SMA Asgard adalah\", mean_imt)"
   ]
  },
  {
   "cell_type": "markdown",
   "id": "186cb809",
   "metadata": {
    "id": "186cb809"
   },
   "source": [
    "2. Anda diberikan data suhu Provinsi DKI Jakarta pada tahun 2011 dalam bentuk list 2d:\n",
    "\n",
    "  ![suhu.png](data:image/png;base64,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)\n",
    "\n",
    "  dari data tersebut:\n",
    "- Buat fungsi untuk mengkonversi data list tersebut menjadi sebuah numpy array berdimensi 2. Perlu diperhatiakan setiap elemen disamakan tipenya menjadi float. (10 poin)\n",
    "- Berapakah suhu tertinggi dari kolom suhu rata-rata? (5 poin)\n",
    "- Berapa rata-rata suhu maksimum dan suhu minimum Provinsi DKI Jakarta pada tahun 2011? (5 poin)\n",
    "\n",
    "sumber: https://data.jakarta.go.id/dataset/data-suhu-udara-di-dki-jakarta-menurut-bulan"
   ]
  },
  {
   "cell_type": "code",
   "execution_count": null,
   "id": "938003de",
   "metadata": {
    "id": "938003de"
   },
   "outputs": [],
   "source": [
    "data_suhu = [[\"32,6\",\"23,4\",\"27,3\"],\n",
    "            [\"33,2\",\"23,6\",\"27,4\"],\n",
    "            [\"34,8\",24.00,\"27,9\"],\n",
    "            [34.00,\"24,2\",\"28,6\"],\n",
    "            [\"34,4\",24.00,\"28,8\"],\n",
    "            [\"33,6\",\"24,6\",\"28,7\"],\n",
    "            [\"33,2\",24.00,\"28,3\"],\n",
    "            [\"34,6\",24.00,\"28,8\"],\n",
    "            [\"34,8\",24.00,29.00],\n",
    "            [\"35,2\",24.00,\"29,2\"],\n",
    "            [\"35,4\",24.00,\"28,9\"],\n",
    "            [35.00,24.00,\"28,9\"]]"
   ]
  },
  {
   "cell_type": "code",
   "execution_count": null,
   "id": "d2dd7e10",
   "metadata": {
    "id": "d2dd7e10",
    "outputId": "99223e94-6a45-40d1-aff7-b9955b992004"
   },
   "outputs": [
    {
     "data": {
      "text/plain": [
       "array([[32.6, 23.4, 27.3],\n",
       "       [33.2, 23.6, 27.4],\n",
       "       [34.8, 24. , 27.9],\n",
       "       [34. , 24.2, 28.6],\n",
       "       [34.4, 24. , 28.8],\n",
       "       [33.6, 24.6, 28.7],\n",
       "       [33.2, 24. , 28.3],\n",
       "       [34.6, 24. , 28.8],\n",
       "       [34.8, 24. , 29. ],\n",
       "       [35.2, 24. , 29.2],\n",
       "       [35.4, 24. , 28.9],\n",
       "       [35. , 24. , 28.9]])"
      ]
     },
     "execution_count": 13,
     "metadata": {},
     "output_type": "execute_result"
    }
   ],
   "source": [
    "def convert_data(data):\n",
    "    # Buat placeholder untuk menyimpan output fungsi\n",
    "    # Lakukan pengulangan terhadap inner list\n",
    "        # Buat placeholder untuk menyimpan hasil konversi dari tiap elemen inner list\n",
    "        # Lakukan Pengulangan terhadap setiap elemen inner list\n",
    "            # Jika elemen bertipe str\n",
    "                # Ganti tanda \",\" menjadi \".\"\n",
    "                # Convert menjadi float\n",
    "                # Append ke dalam placeholder inner\n",
    "            # Jika elemen bertipe int\n",
    "                # Convert menjadi float dan append ke placeholder inner\n",
    "            # Jika elemen bertipe float\n",
    "                # Append ke placeholder\n",
    "        # Append placeholder inner kedalam placeholder out\n",
    "    return np.array(out)\n",
    "\n",
    "data_suhu_clean = convert_data(data_suhu)\n",
    "data_suhu_clean"
   ]
  },
  {
   "cell_type": "code",
   "execution_count": null,
   "id": "1eba3d80",
   "metadata": {
    "id": "1eba3d80",
    "outputId": "c31a5608-5dd0-427b-8597-dcd01fec668b"
   },
   "outputs": [
    {
     "name": "stdout",
     "output_type": "stream",
     "text": [
      "suhu rata-rata tertinggi Jakarta:  29.2\n"
     ]
    }
   ],
   "source": [
    "max_rata2 = # Tuliskan Kode disini\n",
    "print(\"suhu rata-rata tertinggi Jakarta:\", max_rata2)"
   ]
  },
  {
   "cell_type": "code",
   "execution_count": null,
   "id": "8e09c6b9",
   "metadata": {
    "id": "8e09c6b9",
    "outputId": "1d9c2888-30e4-4f7f-b790-63e4d77fc75c"
   },
   "outputs": [
    {
     "name": "stdout",
     "output_type": "stream",
     "text": [
      "rata-rata suhu maksimum dan minimum Jakarta: [34.23333333 23.98333333]\n"
     ]
    }
   ],
   "source": [
    "mean_suhumaks_suhumin = # Tuliskan Kode disini\n",
    "print(\"rata-rata suhu maksimum dan minimum Jakarta:\", mean_suhumaks_suhumin)"
   ]
  },
  {
   "cell_type": "markdown",
   "id": "f0ffb71d",
   "metadata": {
    "id": "f0ffb71d"
   },
   "source": [
    "3. Dalam gelaran tes Pramusim MotoGP di mandalika, pihak penyelenggara membuka 5 tribun yang bisa diisi oleh penonton. Tribun tersebut ditandai warna **merah, biru, kuning, ungu, dan tosca**. Adapun kapasitas dari masing-masin tribun:\n",
    "\n",
    "| Tribun | Kapasitas|\n",
    "|---:|:-------------|\n",
    "| Merah | 8000 |\n",
    "| Biru | 7000|\n",
    "| Kuning | 7000|\n",
    "| Ungu | 9000 |\n",
    "| Tosca | 6000 |"
   ]
  },
  {
   "cell_type": "markdown",
   "id": "5b6c8a74",
   "metadata": {
    "id": "5b6c8a74"
   },
   "source": [
    "<img src=\"https://lombokfokus.com/wp-content/uploads/2021/10/243355674_114939644299503_558670415035436475_n.jpg\" width=400 height=400 />"
   ]
  },
  {
   "cell_type": "markdown",
   "id": "b850744e",
   "metadata": {
    "id": "b850744e"
   },
   "source": [
    "Pada hari H penyelenggaraan diketahui jumlah keterisian tribun merah, biru, kuning, ungu, dan tosca secara berurutan 7281, 6820,6411, 8916, 5831. pihak penyelenggara ingin mengetahui :\n",
    "\n",
    "- Berapa total jumlah penonton yang hadir pada gelaran tes Pramusin MotoGP. (10 poin)\n",
    "- Sajikan data persentase keterisian kursi dari tiap tribun. (10 poin)\n",
    "\n",
    "Bantulah penyelenggara untuk menjawab pertanyaan tersebut\n",
    "\n",
    "$$ \\text{% Keterisian Kursi} = \\frac{\\text{jumlah penonton}}{\\text{kapasitas}} \\times 100 \\% $$\n",
    "\n",
    ">Note : gunakan library numpy"
   ]
  },
  {
   "cell_type": "code",
   "execution_count": null,
   "id": "20c2c3b5",
   "metadata": {
    "id": "20c2c3b5"
   },
   "outputs": [],
   "source": [
    "data_penonton = np.array([7281, 6820,6411, 8916, 5831])\n",
    "kapasitas_tribun = np.array([8000, 7000, 7000, 9000, 6000])"
   ]
  },
  {
   "cell_type": "code",
   "execution_count": null,
   "id": "172b08e7",
   "metadata": {
    "id": "172b08e7",
    "outputId": "79ef6e4d-5d80-46f1-b7eb-53f64275a2c2"
   },
   "outputs": [
    {
     "name": "stdout",
     "output_type": "stream",
     "text": [
      "Total penonton:  35259\n",
      "persentase keterisian tribun:  [91.0125     97.42857143 91.58571429 99.06666667 97.18333333]\n"
     ]
    }
   ],
   "source": [
    "total_penonton = # Tuliskan Kode disini\n",
    "persentase_keterisian = # Tuliskan Kode disini\n",
    "print(\"Total penonton: \", total_penonton)\n",
    "print(\"persentase keterisian tribun: \", persentase_keterisian)"
   ]
  },
  {
   "cell_type": "markdown",
   "id": "73bc5ecd",
   "metadata": {
    "id": "73bc5ecd"
   },
   "source": [
    "4. Di dua hari berikutnya sirkuit mandalika digunakan untuk gelaran Indospeed Race Series (IRS), dimana perlombaan ini menyelenggarakan 2 kategori. Kategori 250cc di hari pertama dan 600cc di hari kedua. Dan diketahui jumlah pononton di masing-masing tribun dari race dihari pertama dan kedua secara berurutan : [6152, 5521, 4910, 5101, 3109], [6981, 6049, 5521, 6919, 4241]. \n",
    "  \n",
    "   Dari data jumlah penonton selama tiga hari tersebut. Berapa banyak keterisian tribun yang melebihi 70% (10 Poin)"
   ]
  },
  {
   "cell_type": "code",
   "execution_count": null,
   "id": "f1350f2c",
   "metadata": {
    "id": "f1350f2c"
   },
   "outputs": [],
   "source": [
    "data_penonton = np.array([[7281, 6820,6411, 8916, 5831], \n",
    "                          [6152, 5521, 4710, 5101, 3109],\n",
    "                          [6981, 6049, 5521, 6919, 4241]])\n",
    "kapasitas_tribun = np.array([8000, 7000, 7000, 9000, 6000])"
   ]
  },
  {
   "cell_type": "code",
   "execution_count": null,
   "id": "a83b4ca0",
   "metadata": {
    "id": "a83b4ca0",
    "outputId": "fca07dc5-3832-4b18-8f7d-23d9dd9eae02"
   },
   "outputs": [
    {
     "name": "stdout",
     "output_type": "stream",
     "text": [
      "jumlah tribun yang persentase keterisiannya diatas 70%:  12\n"
     ]
    }
   ],
   "source": [
    "persentase_keterisian = # Tuliskan kode disini\n",
    "jumlah_tribun = # Tuliskan Kode disini\n",
    "print(\"jumlah tribun yang persentase keterisiannya diatas 70%: \", jumlah_tribun)"
   ]
  },
  {
   "cell_type": "markdown",
   "id": "071cc908",
   "metadata": {
    "id": "071cc908"
   },
   "source": [
    "5. Anda ingin menganalisis data produk alpukat, namun  Format datanya masih dalam bentuk json. Ubahlah data alpukat tersebut kedalam format csv. Data tersebut tersimpan di folder `data_tugas1` dengan nama_file `avocado.json`. Gunakan pandas untuk membaca datanya dan simpan dataframe kedalam `dataframe_1` lalu tampilkan tabelnya. Kemudian save kedalam `avocado.csv`. (15 Poin)\n",
    "> note: orientasi json bukan default, perhatikan terlebih dahulu lalu sesuaikan."
   ]
  },
  {
   "cell_type": "code",
   "execution_count": null,
   "id": "b8f66bea",
   "metadata": {
    "id": "b8f66bea",
    "outputId": "ad299b5e-90f9-4cfb-ea60-c08558ec27a7"
   },
   "outputs": [
    {
     "data": {
      "text/html": [
       "<div>\n",
       "<style scoped>\n",
       "    .dataframe tbody tr th:only-of-type {\n",
       "        vertical-align: middle;\n",
       "    }\n",
       "\n",
       "    .dataframe tbody tr th {\n",
       "        vertical-align: top;\n",
       "    }\n",
       "\n",
       "    .dataframe thead th {\n",
       "        text-align: right;\n",
       "    }\n",
       "</style>\n",
       "<table border=\"1\" class=\"dataframe\">\n",
       "  <thead>\n",
       "    <tr style=\"text-align: right;\">\n",
       "      <th></th>\n",
       "      <th>Unnamed: 0</th>\n",
       "      <th>Date</th>\n",
       "      <th>AveragePrice</th>\n",
       "      <th>Total Volume</th>\n",
       "      <th>4046</th>\n",
       "      <th>4225</th>\n",
       "      <th>4770</th>\n",
       "      <th>Total Bags</th>\n",
       "      <th>Small Bags</th>\n",
       "      <th>Large Bags</th>\n",
       "      <th>XLarge Bags</th>\n",
       "      <th>type</th>\n",
       "      <th>year</th>\n",
       "      <th>region</th>\n",
       "    </tr>\n",
       "  </thead>\n",
       "  <tbody>\n",
       "    <tr>\n",
       "      <th>0</th>\n",
       "      <td>0</td>\n",
       "      <td>2015-12-27</td>\n",
       "      <td>1.33</td>\n",
       "      <td>64236.62</td>\n",
       "      <td>1036.74</td>\n",
       "      <td>54454.85</td>\n",
       "      <td>48.16</td>\n",
       "      <td>8696.87</td>\n",
       "      <td>8603.62</td>\n",
       "      <td>93.25</td>\n",
       "      <td>0.0</td>\n",
       "      <td>conventional</td>\n",
       "      <td>2015</td>\n",
       "      <td>Albany</td>\n",
       "    </tr>\n",
       "    <tr>\n",
       "      <th>1</th>\n",
       "      <td>1</td>\n",
       "      <td>2015-12-20</td>\n",
       "      <td>1.35</td>\n",
       "      <td>54876.98</td>\n",
       "      <td>674.28</td>\n",
       "      <td>44638.81</td>\n",
       "      <td>58.33</td>\n",
       "      <td>9505.56</td>\n",
       "      <td>9408.07</td>\n",
       "      <td>97.49</td>\n",
       "      <td>0.0</td>\n",
       "      <td>conventional</td>\n",
       "      <td>2015</td>\n",
       "      <td>Albany</td>\n",
       "    </tr>\n",
       "    <tr>\n",
       "      <th>2</th>\n",
       "      <td>2</td>\n",
       "      <td>2015-12-13</td>\n",
       "      <td>0.93</td>\n",
       "      <td>118220.22</td>\n",
       "      <td>794.70</td>\n",
       "      <td>109149.67</td>\n",
       "      <td>130.50</td>\n",
       "      <td>8145.35</td>\n",
       "      <td>8042.21</td>\n",
       "      <td>103.14</td>\n",
       "      <td>0.0</td>\n",
       "      <td>conventional</td>\n",
       "      <td>2015</td>\n",
       "      <td>Albany</td>\n",
       "    </tr>\n",
       "    <tr>\n",
       "      <th>3</th>\n",
       "      <td>3</td>\n",
       "      <td>2015-12-06</td>\n",
       "      <td>1.08</td>\n",
       "      <td>78992.15</td>\n",
       "      <td>1132.00</td>\n",
       "      <td>71976.41</td>\n",
       "      <td>72.58</td>\n",
       "      <td>5811.16</td>\n",
       "      <td>5677.40</td>\n",
       "      <td>133.76</td>\n",
       "      <td>0.0</td>\n",
       "      <td>conventional</td>\n",
       "      <td>2015</td>\n",
       "      <td>Albany</td>\n",
       "    </tr>\n",
       "    <tr>\n",
       "      <th>4</th>\n",
       "      <td>4</td>\n",
       "      <td>2015-11-29</td>\n",
       "      <td>1.28</td>\n",
       "      <td>51039.60</td>\n",
       "      <td>941.48</td>\n",
       "      <td>43838.39</td>\n",
       "      <td>75.78</td>\n",
       "      <td>6183.95</td>\n",
       "      <td>5986.26</td>\n",
       "      <td>197.69</td>\n",
       "      <td>0.0</td>\n",
       "      <td>conventional</td>\n",
       "      <td>2015</td>\n",
       "      <td>Albany</td>\n",
       "    </tr>\n",
       "  </tbody>\n",
       "</table>\n",
       "</div>"
      ],
      "text/plain": [
       "   Unnamed: 0       Date  AveragePrice  Total Volume     4046       4225  \\\n",
       "0           0 2015-12-27          1.33      64236.62  1036.74   54454.85   \n",
       "1           1 2015-12-20          1.35      54876.98   674.28   44638.81   \n",
       "2           2 2015-12-13          0.93     118220.22   794.70  109149.67   \n",
       "3           3 2015-12-06          1.08      78992.15  1132.00   71976.41   \n",
       "4           4 2015-11-29          1.28      51039.60   941.48   43838.39   \n",
       "\n",
       "     4770  Total Bags  Small Bags  Large Bags  XLarge Bags          type  \\\n",
       "0   48.16     8696.87     8603.62       93.25          0.0  conventional   \n",
       "1   58.33     9505.56     9408.07       97.49          0.0  conventional   \n",
       "2  130.50     8145.35     8042.21      103.14          0.0  conventional   \n",
       "3   72.58     5811.16     5677.40      133.76          0.0  conventional   \n",
       "4   75.78     6183.95     5986.26      197.69          0.0  conventional   \n",
       "\n",
       "   year  region  \n",
       "0  2015  Albany  \n",
       "1  2015  Albany  \n",
       "2  2015  Albany  \n",
       "3  2015  Albany  \n",
       "4  2015  Albany  "
      ]
     },
     "execution_count": 6,
     "metadata": {},
     "output_type": "execute_result"
    }
   ],
   "source": [
    "dataframe_1 = ..."
   ]
  },
  {
   "cell_type": "markdown",
   "id": "2fc917ca",
   "metadata": {
    "id": "2fc917ca"
   },
   "source": [
    "6. Saat ingin menganalisis data pegawai, anda mendapati data tersebut disimpan di sebuah database relasional. Anda meminta Database administrator untuk menyimpan data tersebut kedalam sebuah file. Output disimpan didalam folder  `data_tugas1` dengan nama file `chinook.db`. Gunakan `sqlite3` untuk membaca isi database tersebut, kemudian di dalam pandas ambil tabel kolom `Employeeid`,`LastName`,`Title` dari tabel `employees` dan tampilkan tabelnya. Simpan tabel kedalam `dataframe_2`, kemudian save kedalam `employees.json` dengan orientasi `columns`. (15 Poin)"
   ]
  },
  {
   "cell_type": "code",
   "execution_count": null,
   "id": "a2c293ec",
   "metadata": {
    "id": "a2c293ec",
    "outputId": "2944f249-40f6-436d-eb52-7e5f22d9cfa3"
   },
   "outputs": [
    {
     "data": {
      "text/html": [
       "<div>\n",
       "<style scoped>\n",
       "    .dataframe tbody tr th:only-of-type {\n",
       "        vertical-align: middle;\n",
       "    }\n",
       "\n",
       "    .dataframe tbody tr th {\n",
       "        vertical-align: top;\n",
       "    }\n",
       "\n",
       "    .dataframe thead th {\n",
       "        text-align: right;\n",
       "    }\n",
       "</style>\n",
       "<table border=\"1\" class=\"dataframe\">\n",
       "  <thead>\n",
       "    <tr style=\"text-align: right;\">\n",
       "      <th></th>\n",
       "      <th>EmployeeId</th>\n",
       "      <th>LastName</th>\n",
       "      <th>Title</th>\n",
       "    </tr>\n",
       "  </thead>\n",
       "  <tbody>\n",
       "    <tr>\n",
       "      <th>0</th>\n",
       "      <td>1</td>\n",
       "      <td>Adams</td>\n",
       "      <td>General Manager</td>\n",
       "    </tr>\n",
       "    <tr>\n",
       "      <th>1</th>\n",
       "      <td>2</td>\n",
       "      <td>Edwards</td>\n",
       "      <td>Sales Manager</td>\n",
       "    </tr>\n",
       "    <tr>\n",
       "      <th>2</th>\n",
       "      <td>3</td>\n",
       "      <td>Peacock</td>\n",
       "      <td>Sales Support Agent</td>\n",
       "    </tr>\n",
       "    <tr>\n",
       "      <th>3</th>\n",
       "      <td>4</td>\n",
       "      <td>Park</td>\n",
       "      <td>Sales Support Agent</td>\n",
       "    </tr>\n",
       "    <tr>\n",
       "      <th>4</th>\n",
       "      <td>5</td>\n",
       "      <td>Johnson</td>\n",
       "      <td>Sales Support Agent</td>\n",
       "    </tr>\n",
       "  </tbody>\n",
       "</table>\n",
       "</div>"
      ],
      "text/plain": [
       "   EmployeeId LastName                Title\n",
       "0           1    Adams      General Manager\n",
       "1           2  Edwards        Sales Manager\n",
       "2           3  Peacock  Sales Support Agent\n",
       "3           4     Park  Sales Support Agent\n",
       "4           5  Johnson  Sales Support Agent"
      ]
     },
     "execution_count": 8,
     "metadata": {},
     "output_type": "execute_result"
    }
   ],
   "source": [
    "dataframe_2 = ..."
   ]
  },
  {
   "cell_type": "code",
   "execution_count": null,
   "id": "ace937a6",
   "metadata": {
    "id": "ace937a6"
   },
   "outputs": [],
   "source": []
  }
 ],
 "metadata": {
  "colab": {
   "collapsed_sections": [],
   "name": "Tugas 1.ipynb",
   "provenance": []
  },
  "kernelspec": {
   "display_name": "Python 3",
   "language": "python",
   "name": "python3"
  },
  "language_info": {
   "codemirror_mode": {
    "name": "ipython",
    "version": 3
   },
   "file_extension": ".py",
   "mimetype": "text/x-python",
   "name": "python",
   "nbconvert_exporter": "python",
   "pygments_lexer": "ipython3",
   "version": "3.8.8"
  }
 },
 "nbformat": 4,
 "nbformat_minor": 5
}
