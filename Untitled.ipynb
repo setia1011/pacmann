{
 "cells": [
  {
   "cell_type": "code",
   "execution_count": 3,
   "id": "6858a72a-6a45-4008-8891-cb6ae1bf7c86",
   "metadata": {},
   "outputs": [],
   "source": [
    "dx = [\n",
    "    {\n",
    "      \"id\": 1,\n",
    "      \"subs_plan_id\": 2,\n",
    "      \"subs_month\": 3,\n",
    "      \"subs_price\": 82500.0,\n",
    "      \"subs_start\": \"2022-06-10T19:24:36\",\n",
    "      \"subs_end\": \"2022-09-10T19:24:36\",\n",
    "      \"token\": \"\",\n",
    "      \"project_id\": 1,\n",
    "      \"status\": \"active\",\n",
    "      \"creator\": 2,\n",
    "      \"created_at\": \"2022-06-10T19:24:24\",\n",
    "      \"editor\": 1,\n",
    "      \"updated_at\": \"2022-06-10T19:24:36\",\n",
    "      \"ref_subscription_plan\": {\n",
    "        \"id\": 2,\n",
    "        \"plan\": \"standard\",\n",
    "        \"monthly_price\": 25000.0,\n",
    "        \"status\": \"valid\",\n",
    "        \"creator\": 1,\n",
    "        \"created_at\": \"2022-06-10T14:46:34\",\n",
    "        \"editor\": 0,\n",
    "        \"updated_at\": \"\"\n",
    "      }\n",
    "    },\n",
    "    {\n",
    "      \"id\": 2,\n",
    "      \"subs_plan_id\": 3,\n",
    "      \"subs_month\": 3,\n",
    "      \"subs_price\": 330000.0,\n",
    "      \"subs_start\": \"2022-09-11T19:24:36\",\n",
    "      \"subs_end\": \"2022-12-11T19:24:36\",\n",
    "      \"token\": \"\",\n",
    "      \"project_id\": 1,\n",
    "      \"status\": \"active\",\n",
    "      \"creator\": 2,\n",
    "      \"created_at\": \"2022-06-10T19:34:45\",\n",
    "      \"editor\": 1,\n",
    "      \"updated_at\": \"2022-06-10T19:34:56\",\n",
    "      \"ref_subscription_plan\": {\n",
    "        \"id\": 3,\n",
    "        \"plan\": \"premium\",\n",
    "        \"monthly_price\": 100000.0,\n",
    "        \"status\": \"valid\",\n",
    "        \"creator\": 1,\n",
    "        \"created_at\": \"2022-06-10T14:46:34\",\n",
    "        \"editor\": 0,\n",
    "        \"updated_at\": \"\"\n",
    "      }\n",
    "    }]"
   ]
  },
  {
   "cell_type": "code",
   "execution_count": 14,
   "id": "0ede3808-5bdc-4ae7-b41d-657f7f712b14",
   "metadata": {},
   "outputs": [
    {
     "data": {
      "text/plain": [
       "2"
      ]
     },
     "execution_count": 14,
     "metadata": {},
     "output_type": "execute_result"
    }
   ],
   "source": [
    "a = len(dx)\n",
    "a"
   ]
  },
  {
   "cell_type": "code",
   "execution_count": 17,
   "id": "064d0581-f32b-49ea-93b1-bdd9ba63330f",
   "metadata": {},
   "outputs": [],
   "source": [
    "first_item = 0\n",
    "last_item = a-1"
   ]
  },
  {
   "cell_type": "code",
   "execution_count": 65,
   "id": "44551193-a4cf-4c1b-ba02-0fc6a17580e3",
   "metadata": {},
   "outputs": [
    {
     "data": {
      "text/plain": [
       "{'token': '',\n",
       " 'subs_start': '2022-06-10T19:24:36',\n",
       " 'subs_plan_id': 2,\n",
       " 'subs_end': '2022-12-11T19:24:36',\n",
       " 'subs_month': 6,\n",
       " 'subs_price': 412500.0}"
      ]
     },
     "execution_count": 65,
     "metadata": {},
     "output_type": "execute_result"
    }
   ],
   "source": [
    "du = []\n",
    "dt = {}\n",
    "subs_month = 0\n",
    "subs_price = 0.0\n",
    "yu = {}\n",
    "for i in range(a):\n",
    "    subs_month += dx[i]['subs_month']\n",
    "    subs_price += dx[i]['subs_price']\n",
    "    dt['token'] = dx[i]['token']\n",
    "    \n",
    "    if i == first_item:\n",
    "        dt['subs_start'] = dx[i]['subs_start'] \n",
    "        dt['subs_plan_id'] = dx[i]['subs_plan_id']\n",
    "        \n",
    "        du.append({\n",
    "            'id': dx[i]['id'], \n",
    "            'subs_plan_id': dx[i]['subs_plan_id'],\n",
    "            'subs_month': dx[i]['subs_month'], \n",
    "            'subs_price': dx[i]['subs_price'], \n",
    "            'subs_start': dx[i]['subs_start'], \n",
    "            'subs_end': dx[i]['subs_end'], \n",
    "            'token': dx[i]['token'], \n",
    "            'project_id': dx[i]['project_id'], \n",
    "            'status': dx[i]['status'], \n",
    "            'creator': dx[i]['creator'], \n",
    "            'created_at': dx[i]['created_at'], \n",
    "            'editor': dx[i]['editor'], \n",
    "            'updated_at': dx[i]['updated_at']\n",
    "        })\n",
    "        # print(dx[i])\n",
    "        \n",
    "    if i == last_item:\n",
    "        dt['subs_end'] = dx[i]['subs_end'] \n",
    "        \n",
    "        du.append({\n",
    "            'id': dx[i]['id'], \n",
    "            'subs_plan_id': dx[i]['subs_plan_id'],\n",
    "            'subs_month': dx[i]['subs_month'], \n",
    "            'subs_price': dx[i]['subs_price'], \n",
    "            'subs_start': dx[i]['subs_start'], \n",
    "            'subs_end': dx[i]['subs_end'], \n",
    "            'token': dx[i]['token'], \n",
    "            'project_id': dx[i]['project_id'], \n",
    "            'status': dx[i]['status'], \n",
    "            'creator': dx[i]['creator'], \n",
    "            'created_at': dx[i]['created_at'], \n",
    "            'editor': dx[i]['editor'], \n",
    "            'updated_at': dx[i]['updated_at']\n",
    "        })\n",
    "\n",
    "# this for calculated\n",
    "dt['subs_month'] = subs_month\n",
    "dt['subs_price'] = subs_price\n",
    "\n",
    "dt"
   ]
  }
 ],
 "metadata": {
  "kernelspec": {
   "display_name": "google-trends-kernel",
   "language": "python",
   "name": "google-trends-kernel"
  },
  "language_info": {
   "codemirror_mode": {
    "name": "ipython",
    "version": 3
   },
   "file_extension": ".py",
   "mimetype": "text/x-python",
   "name": "python",
   "nbconvert_exporter": "python",
   "pygments_lexer": "ipython3",
   "version": "3.9.10"
  }
 },
 "nbformat": 4,
 "nbformat_minor": 5
}
